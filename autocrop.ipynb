{
 "cells": [
  {
   "cell_type": "markdown",
   "id": "3a89b1ca",
   "metadata": {
    "pycharm": {
     "name": "#%% md\n"
    }
   },
   "source": [
    "# Detecting the rectangle of the rice leaf\n",
    "## This pybook is first of the development process"
   ]
  },
  {
   "cell_type": "code",
   "execution_count": 2,
   "id": "e5ac6c51",
   "metadata": {
    "pycharm": {
     "name": "#%%\n"
    }
   },
   "outputs": [],
   "source": [
    "import tensorflow as tf\n",
    "import numpy as np\n"
   ]
  },
  {
   "cell_type": "code",
   "execution_count": 3,
   "id": "d7ce58f9",
   "metadata": {
    "pycharm": {
     "name": "#%%\n"
    }
   },
   "outputs": [],
   "source": [
    "STD_SIZE: int = 1600\n",
    "\n",
    "\n",
    "def load_image(filepath: str):\n",
    "    file_content = tf.io.read_file(filepath)\n",
    "    image = tf.io.decode_jpeg(file_content, channels=3)  # load in RGB\n",
    "    return tf.image.resize(image, [STD_SIZE, STD_SIZE])  # don't forget to uniform our image"
   ]
  },
  {
   "cell_type": "code",
   "execution_count": 4,
   "id": "58606705",
   "metadata": {
    "pycharm": {
     "name": "#%%\n"
    }
   },
   "outputs": [
    {
     "name": "stderr",
     "output_type": "stream",
     "text": [
      "2022-01-16 20:44:45.393130: I tensorflow/core/platform/cpu_feature_guard.cc:151] This TensorFlow binary is optimized with oneAPI Deep Neural Network Library (oneDNN) to use the following CPU instructions in performance-critical operations:  SSE3 SSE4.1 SSE4.2 AVX AVX2 FMA\n",
      "To enable them in other operations, rebuild TensorFlow with the appropriate compiler flags.\n",
      "2022-01-16 20:44:45.394504: I tensorflow/core/common_runtime/process_util.cc:146] Creating new thread pool with default inter op setting: 2. Tune using inter_op_parallelism_threads for best performance.\n"
     ]
    }
   ],
   "source": [
    "import PIL\n",
    "\n",
    "image = load_image(\"RiceLeafs/train/Healthy/IMG_20190419_123623.jpg\")\n",
    "image = tf.cast(image, tf.float32)\n",
    "image = tf.expand_dims(image, 0)\n",
    "\n",
    "sobel = tf.image.sobel_edges(image)\n",
    "sobel_y = np.asarray(sobel[0, :, :, :, 0])  # sobel in y-direction\n",
    "sobel_x = np.asarray(sobel[0, :, :, :, 1])  # sobel in x-direction\n",
    "\n",
    "PIL.Image.fromarray(sobel_y[..., 0]).show()\n",
    "PIL.Image.fromarray(sobel_x[..., 0]).show()"
   ]
  },
  {
   "cell_type": "code",
   "execution_count": null,
   "id": "06a6483b",
   "metadata": {
    "pycharm": {
     "name": "#%%\n",
     "is_executing": true
    }
   },
   "outputs": [],
   "source": [
    "import cv2\n",
    "\n",
    "#reading the image\n",
    "image = cv2.imread(\"RiceLeafs/train/Healthy/IMG_20190419_123623.jpg\")\n",
    "image = cv2.resize(image, (1600, 1600))\n",
    "edged = cv2.Canny(image, 10, 220)\n",
    "#cv2.imshow(\"Edges\", edged)\n",
    "#cv2.waitKey(0)\n",
    "\n",
    "#applying closing function\n",
    "kernel = cv2.getStructuringElement(cv2.MORPH_RECT, (7, 7))\n",
    "closed = cv2.morphologyEx(edged, cv2.MORPH_CLOSE, kernel)\n",
    "#cv2.imshow(\"Closed\", closed)\n",
    "#cv2.waitKey(0)\n",
    "\n",
    "#finding_contours\n",
    "(cnts, _) = cv2.findContours(closed.copy(), cv2.RETR_EXTERNAL, cv2.CHAIN_APPROX_SIMPLE)\n",
    "\n",
    "for c in cnts:\n",
    "    peri = cv2.arcLength(c, True)\n",
    "    approx = cv2.approxPolyDP(c, 0.02 * peri, True)\n",
    "    cv2.drawContours(image, [approx], -1, (0, 255, 0), 2)\n",
    "cv2.imshow(\"Output\", image)\n",
    "cv2.waitKey(0)\n",
    "cv2.destroyAllWindows()"
   ]
  },
  {
   "cell_type": "code",
   "execution_count": 13,
   "outputs": [],
   "source": [
    "def find_longest_dicks(contours) -> list:  # distance in contours klist\n",
    "    full_list = []\n",
    "    for c in contours:\n",
    "        peri = cv2.arcLength(c, True)\n",
    "        poly = cv2.approxPolyDP(c, 0.02 * peri, True)\n",
    "        for lin_i in range(len(poly))[:-1]:\n",
    "            full_list.append(((poly[lin_i][0][0], poly[lin_i][0][1]), (poly[lin_i + 1][0][0], poly[lin_i + 1][0][1])))\n",
    "    full_list = sorted(full_list, key=lambda x: -(x[0][0] - x[1][0]) ** 2 - (x[0][1] - x[1][1]) ** 2)\n",
    "    return full_list\n"
   ],
   "metadata": {
    "collapsed": false,
    "pycharm": {
     "name": "#%%\n"
    }
   }
  },
  {
   "cell_type": "code",
   "execution_count": 31,
   "outputs": [
    {
     "name": "stderr",
     "output_type": "stream",
     "text": [
      "/tmp/ipykernel_6171/2810790340.py:44: DeprecationWarning: `np.float` is a deprecated alias for the builtin `float`. To silence this warning, use `float` by itself. Doing this will not modify any behavior and is safe. If you specifically wanted the numpy scalar type, use `np.float64` here.\n",
      "Deprecated in NumPy 1.20; for more details and guidance: https://numpy.org/devdocs/release/1.20.0-notes.html#deprecations\n",
      "  grad_zero = grad_zero.astype(np.float)\n"
     ]
    },
    {
     "name": "stdout",
     "output_type": "stream",
     "text": [
      "0 255\n"
     ]
    }
   ],
   "source": [
    "import cv2\n",
    "from scipy import ndimage\n",
    "import numpy as np\n",
    "import PIL\n",
    "from matplotlib.pyplot import imshow\n",
    "% matplotlib inline\n",
    "\n",
    "scharr = np.array([[1, 1, 1, 1, 1, 1, 1],\n",
    "                   [1, 1, 1, 1, 1, 1, 1],\n",
    "                   [1, 1, 0, 0, 0, 1, 1],\n",
    "                   [1, 1, 0, 0, 0, 1, 1],\n",
    "                   [1, 1, 0, 0, 0, 1, 1],\n",
    "                   [1, 1, 1, 1, 1, 1, 1],\n",
    "                   [1, 1, 1, 1, 1, 1, 1]])\n",
    "\n",
    "sharpen = np.array([[0, 0, 0, -1, 0, 0, 0],\n",
    "                    [0, 0, -1, -1, -1, 0, 0],\n",
    "                    [0, -1, -1, -1, -1, -1, 0],\n",
    "                    [-1, -1, -1, 24, -1, -1, -1],\n",
    "                    [0, -1, -1, -1, -1, -1, 0],\n",
    "                    [0, 0, -1, -1, -1, 0, 0],\n",
    "                    [0, 0, 0, -1, 0, 0, 0]])\n",
    "\n",
    "new_conv = np.array([[0, -1, 0],\n",
    "                     [-1, 5, -1],\n",
    "                     [0, -1, 0]])\n",
    "\n",
    "image = cv2.imread(\"RiceLeafs/train/Healthy/IMG_20190419_123646.jpg\")\n",
    "image = cv2.resize(image, (1600, 1600))\n",
    "no_green_image = image.copy()\n",
    "no_green_image[:, :, 1] = 0\n",
    "gray = cv2.cvtColor(image, cv2.COLOR_BGR2GRAY)\n",
    "\n",
    "grad_x = cv2.Sobel(gray, cv2.CV_64F, 1, 0, ksize=21)\n",
    "grad_y = cv2.Sobel(gray, cv2.CV_64F, 0, 1, ksize=21)\n",
    "\n",
    "abs_grad_x = cv2.convertScaleAbs(grad_x)\n",
    "abs_grad_y = cv2.convertScaleAbs(grad_y)\n",
    "\n",
    "grad = np.sqrt(grad_x ** 2 + grad_y ** 2)\n",
    "grad_norm = (grad * 255 / grad.max()).astype(np.uint8)\n",
    "grad_zero = grad_norm.copy()\n",
    "grad_zero[np.abs(grad_zero) < 64] = 0\n",
    "grad_zero = grad_zero.astype(np.float)\n",
    "grad_cnn = ndimage.convolve(grad_zero, sharpen, mode='constant', cval=0.0)\n",
    "grad_cnn[grad_cnn > 255] = 255\n",
    "grad_cnn[grad_cnn < 64] = 0\n",
    "grad_cnn = grad_cnn.astype(np.uint8)\n",
    "print(grad_cnn.min(), grad_cnn.max())\n",
    "\n",
    "kernel = cv2.getStructuringElement(cv2.MORPH_RECT, (7, 7))\n",
    "closed = cv2.morphologyEx(grad_cnn, cv2.MORPH_CLOSE, kernel)\n",
    "\n",
    "(cnts, _) = cv2.findContours(closed.copy(), cv2.RETR_EXTERNAL, cv2.CHAIN_APPROX_SIMPLE)\n",
    "\n",
    "for c in cnts:\n",
    "    peri = cv2.arcLength(c, True)\n",
    "    approx = cv2.approxPolyDP(c, 0.02 * peri, True)\n",
    "    #print(approx, len(approx))\n",
    "    cv2.drawContours(image, [approx], -1, (0, 255, 0), 2)\n",
    "\n",
    "longest = find_longest_dicks(cnts)\n",
    "for line in longest[:2]:\n",
    "    cv2.line(image, line[0], line[1], color=(255, 0, 0), thickness=2)\n",
    "\n",
    "#imshow(cv2.cvtColor(image, cv2.COLOR_RGB2BGR))\n",
    "#imshow(image)\n",
    "\n",
    "#grad = cv2.addWeighted(abs_grad_x, 0.5, abs_grad_y, 0.5, 0)\n",
    "\n",
    "#PIL.Image.fromarray(grad_x  ).show()\n",
    "#PIL.Image.fromarray(grad_y  ).show()\n",
    "#PIL.Image.fromarray(grad_norm  ).show()\n",
    "#PIL.Image.fromarray(closed  ).show()\n",
    "PIL.Image.fromarray(image).show()\n",
    "#PIL.Image.fromarray(grad_zero  ).show()\n",
    "#PIL.Image.fromarray(np.absolute(grad_cnn)  ).show()\n",
    "#cv2.imshow('grad X',grad_x)\n",
    "#cv2.imshow('grad Y',grad_y)\n",
    "#cv2.imshow('Sobel Image',grad)\n",
    "#cv2.waitKey(0)\n",
    "#cv2.destroyAllWindows()"
   ],
   "metadata": {
    "collapsed": false,
    "pycharm": {
     "name": "#%%\n"
    }
   }
  },
  {
   "cell_type": "code",
   "execution_count": 47,
   "outputs": [
    {
     "name": "stderr",
     "output_type": "stream",
     "text": [
      "/tmp/ipykernel_6171/1930751533.py:70: DeprecationWarning: `np.float` is a deprecated alias for the builtin `float`. To silence this warning, use `float` by itself. Doing this will not modify any behavior and is safe. If you specifically wanted the numpy scalar type, use `np.float64` here.\n",
      "Deprecated in NumPy 1.20; for more details and guidance: https://numpy.org/devdocs/release/1.20.0-notes.html#deprecations\n",
      "  grad_zero = grad_zero.astype(np.float)\n"
     ]
    }
   ],
   "source": [
    "import cv2\n",
    "import PIL\n",
    "from scipy import ndimage\n",
    "import numpy as np\n",
    "import os\n",
    "from math import sqrt, atan, pi\n",
    "\n",
    "\n",
    "def find_longest_dicks(contours) -> list:  # distance in contours klist\n",
    "    full_list = []\n",
    "    for c in contours:\n",
    "        peri = cv2.arcLength(c, True)\n",
    "        poly = cv2.approxPolyDP(c, 0.02 * peri, True)\n",
    "        for lin_i in range(len(poly))[:-1]:\n",
    "            full_list.append(((poly[lin_i][0][0], poly[lin_i][0][1]), (poly[lin_i + 1][0][0], poly[lin_i + 1][0][1])))\n",
    "    full_list = sorted(full_list, key=lambda x: -(x[0][0] - x[1][0]) ** 2 - (x[0][1] - x[1][1]) ** 2)\n",
    "    return full_list\n",
    "\n",
    "\n",
    "# k = (y1 - y2) / (x1 - x2)\n",
    "# b = y2 - k*x2\n",
    "\n",
    "def line_koeff(line) -> tuple[float, float]:\n",
    "    k = (line[0][1] - line[1][1]) / (line[0][0] - line[1][0])\n",
    "    b = line[1][1] - k * line[1][0]\n",
    "    return k, b\n",
    "\n",
    "\n",
    "def angle_diff(lhs, rhs) -> float:\n",
    "    k_l, _ = line_koeff(lhs)\n",
    "    k_r, _ = line_koeff(rhs)\n",
    "    return abs(atan(k_l) - atan(k_r))\n",
    "\n",
    "\n",
    "sharpen_cnn = np.array([[0, 0, 0, -1, 0, 0, 0],\n",
    "                        [0, 0, -1, -1, -1, 0, 0],\n",
    "                        [0, -1, -1, -1, -1, -1, 0],\n",
    "                        [-1, -1, -1, 24, -1, -1, -1],\n",
    "                        [0, -1, -1, -1, -1, -1, 0],\n",
    "                        [0, 0, -1, -1, -1, 0, 0],\n",
    "                        [0, 0, 0, -1, 0, 0, 0]])\n",
    "\n",
    "line_len_f = lambda x: sqrt((x[0][0] - x[1][0]) ** 2 + (x[0][1] - x[1][1]) ** 2)\n",
    "len_threshold_1 = 0.40\n",
    "len_threshold_other = 0.8\n",
    "angle_diff_threshold = 10 * (pi / 180)\n",
    "\n",
    "# TODO compare results with and without shadow removal\n",
    "def shadow_remove(img):\n",
    "    rgb_planes = cv2.split(img)\n",
    "    result_norm_planes = []\n",
    "    for plane in rgb_planes:\n",
    "        dilated_img = cv2.dilate(plane, np.ones((7, 7), np.uint8))\n",
    "        bg_img = cv2.medianBlur(dilated_img, 21)\n",
    "        diff_img = 255 - cv2.absdiff(plane, bg_img)\n",
    "        norm_img = cv2.normalize(diff_img, None, alpha=0, beta=255, norm_type=cv2.NORM_MINMAX, dtype=cv2.CV_8UC1)\n",
    "        result_norm_planes.append(norm_img)\n",
    "    shadowremov = cv2.merge(result_norm_planes)\n",
    "    return shadowremov\n",
    "\n",
    "def find_candidate_lines(image_data) -> list:\n",
    "    #gray = cv2.cvtColor(shadow_remove(image_data), cv2.COLOR_BGR2GRAY)\n",
    "    gray = cv2.cvtColor(image_data, cv2.COLOR_BGR2GRAY) # TODO cmp\n",
    "\n",
    "    grad_x = cv2.Sobel(gray, cv2.CV_64F, 1, 0, ksize=21)\n",
    "    grad_y = cv2.Sobel(gray, cv2.CV_64F, 0, 1, ksize=21)\n",
    "\n",
    "    grad = np.sqrt(grad_x ** 2 + grad_y ** 2)\n",
    "    grad_norm = (grad * 255 / grad.max()).astype(np.uint8)\n",
    "    grad_zero = grad_norm.copy()\n",
    "    grad_zero[np.abs(grad_zero) < 64] = 0\n",
    "    grad_zero = grad_zero.astype(np.float)\n",
    "    grad_cnn = ndimage.convolve(grad_zero, sharpen, mode='constant', cval=0.0)\n",
    "    grad_cnn[grad_cnn > 255] = 255\n",
    "    grad_cnn[grad_cnn < 64] = 0\n",
    "    grad_cnn = grad_cnn.astype(np.uint8)\n",
    "\n",
    "    kernel = cv2.getStructuringElement(cv2.MORPH_RECT, (7, 7))\n",
    "    closed = cv2.morphologyEx(grad_cnn, cv2.MORPH_CLOSE, kernel)\n",
    "\n",
    "    (cnts, _) = cv2.findContours(closed.copy(), cv2.RETR_EXTERNAL, cv2.CHAIN_APPROX_SIMPLE)\n",
    "    all_dicks = find_longest_dicks(cnts)\n",
    "    longest = all_dicks[:min(10, len(all_dicks))]\n",
    "\n",
    "    # here we filter dicks that are not big enough\n",
    "    if len(longest) <= 2:\n",
    "        return longest\n",
    "    target = list()\n",
    "    target.append(longest[0])  # at least 1 should be here\n",
    "    current_thr = len_threshold_1\n",
    "    for line in longest[1:]:\n",
    "        prev_len = line_len_f(target[-1])\n",
    "        current_len = line_len_f(line)\n",
    "        if current_len < prev_len * current_thr:\n",
    "            break\n",
    "        if angle_diff(target[0], line) > angle_diff_threshold:\n",
    "            continue\n",
    "        target.append(line)\n",
    "        current_thr = len_threshold_other\n",
    "\n",
    "    return target\n",
    "\n",
    "\n",
    "def show_draw_lines(path: str):\n",
    "    image = cv2.imread(path)\n",
    "    image = cv2.resize(image, (1600, 1600))\n",
    "    lines = find_candidate_lines(image)\n",
    "    for line in lines:\n",
    "        cv2.line(image, line[0], line[1], color=(255, 0, 0), thickness=2)\n",
    "\n",
    "    PIL.Image.fromarray(image).show()\n",
    "\n",
    "\n",
    "def process_folder_draw_lines(folder: str, target_folder: str):\n",
    "    files = os.listdir(folder)\n",
    "    for filename in files[:100]:\n",
    "        image = cv2.imread(os.path.join(folder, filename))\n",
    "        image = cv2.resize(image, (1600, 1600))\n",
    "        lines = find_candidate_lines(image)\n",
    "        for line in lines:\n",
    "            cv2.line(image, line[0], line[1], color=(0, 0, 255), thickness=2)\n",
    "        cv2.imwrite(os.path.join(target_folder, filename), image)\n",
    "\n",
    "\n",
    "#show_draw_lines(\"RiceLeafs/train/Healthy/IMG_20190419_123646.jpg\")\n",
    "process_folder_draw_lines(\"RiceLeafs/train/Healthy\", \"test\")"
   ],
   "metadata": {
    "collapsed": false,
    "pycharm": {
     "name": "#%%\n"
    }
   }
  }
 ],
 "metadata": {
  "kernelspec": {
   "display_name": "Python 3 (ipykernel)",
   "language": "python",
   "name": "python3"
  },
  "language_info": {
   "codemirror_mode": {
    "name": "ipython",
    "version": 3
   },
   "file_extension": ".py",
   "mimetype": "text/x-python",
   "name": "python",
   "nbconvert_exporter": "python",
   "pygments_lexer": "ipython3",
   "version": "3.10.1"
  }
 },
 "nbformat": 4,
 "nbformat_minor": 5
}