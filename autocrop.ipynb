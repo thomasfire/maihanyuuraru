{
 "cells": [
  {
   "cell_type": "markdown",
   "id": "3a89b1ca",
   "metadata": {
    "pycharm": {
     "name": "#%% md\n"
    }
   },
   "source": [
    "# Detecting the rectangle of the rice leaf\n",
    "## This pybook is first of the development process"
   ]
  },
  {
   "cell_type": "code",
   "execution_count": 1,
   "id": "e5ac6c51",
   "metadata": {
    "pycharm": {
     "name": "#%%\n"
    }
   },
   "outputs": [],
   "source": [
    "import tensorflow as tf\n",
    "import numpy as np\n"
   ]
  },
  {
   "cell_type": "code",
   "execution_count": 2,
   "id": "d7ce58f9",
   "metadata": {
    "pycharm": {
     "name": "#%%\n"
    }
   },
   "outputs": [],
   "source": [
    "STD_SIZE: int = 1600\n",
    "def load_image(filepath: str):\n",
    "    file_content = tf.io.read_file(filepath)\n",
    "    image = tf.io.decode_jpeg(file_content, channels=3) # load in RGB\n",
    "    return tf.image.resize(image, [STD_SIZE, STD_SIZE]) # don't forget to uniform our image"
   ]
  },
  {
   "cell_type": "code",
   "execution_count": 6,
   "id": "58606705",
   "metadata": {
    "pycharm": {
     "name": "#%%\n"
    }
   },
   "outputs": [],
   "source": [
    "import PIL\n",
    "image = load_image(\"RiceLeafs/train/Healthy/IMG_20190419_123623.jpg\")\n",
    "image = tf.cast(image, tf.float32)\n",
    "image = tf.expand_dims(image, 0)\n",
    "\n",
    "sobel = tf.image.sobel_edges(image)\n",
    "sobel_y = np.asarray(sobel[0, :, :, :, 0]) # sobel in y-direction\n",
    "sobel_x = np.asarray(sobel[0, :, :, :, 1]) # sobel in x-direction\n",
    "\n",
    "PIL.Image.fromarray(sobel_y[..., 0]  ).show()\n",
    "PIL.Image.fromarray(sobel_x[..., 0]  ).show()"
   ]
  },
  {
   "cell_type": "code",
   "execution_count": null,
   "id": "06a6483b",
   "metadata": {
    "pycharm": {
     "name": "#%%\n",
     "is_executing": true
    }
   },
   "outputs": [],
   "source": [
    "import cv2\n",
    "#reading the image\n",
    "image = cv2.imread(\"RiceLeafs/train/Healthy/IMG_20190419_123623.jpg\")\n",
    "image = cv2.resize(image, (1600, 1600))\n",
    "edged = cv2.Canny(image, 10, 220)\n",
    "#cv2.imshow(\"Edges\", edged)\n",
    "#cv2.waitKey(0)\n",
    "\n",
    "#applying closing function\n",
    "kernel = cv2.getStructuringElement(cv2.MORPH_RECT, (7, 7))\n",
    "closed = cv2.morphologyEx(edged, cv2.MORPH_CLOSE, kernel)\n",
    "#cv2.imshow(\"Closed\", closed)\n",
    "#cv2.waitKey(0)\n",
    "\n",
    "#finding_contours\n",
    "(cnts, _) = cv2.findContours(closed.copy(), cv2.RETR_EXTERNAL, cv2.CHAIN_APPROX_SIMPLE)\n",
    "\n",
    "for c in cnts:\n",
    "    peri = cv2.arcLength(c, True)\n",
    "    approx = cv2.approxPolyDP(c, 0.02 * peri, True)\n",
    "    cv2.drawContours(image, [approx], -1, (0, 255, 0), 2)\n",
    "cv2.imshow(\"Output\", image)\n",
    "cv2.waitKey(0)\n",
    "cv2.destroyAllWindows()"
   ]
  },
  {
   "cell_type": "code",
   "execution_count": 40,
   "outputs": [],
   "source": [
    "import cv2\n",
    "from scipy import ndimage\n",
    "\n",
    "scharr = np.array([[1, 1, 1, 1, 1, 1, 1],\n",
    "                   [1, 1, 1, 1, 1, 1, 1],\n",
    "                   [1, 1, 0, 0, 0, 1, 1],\n",
    "                   [1, 1, 0, 0, 0, 1, 1],\n",
    "                   [1, 1, 0, 0, 0, 1, 1],\n",
    "                   [1, 1, 1, 1, 1, 1, 1],\n",
    "                   [1, 1, 1, 1, 1, 1, 1]])\n",
    "\n",
    "image = cv2.imread(\"RiceLeafs/train/Healthy/IMG_20190419_123623.jpg\")\n",
    "image = cv2.resize(image, (1600, 1600))\n",
    "gray = cv2.cvtColor(image, cv2.COLOR_BGR2GRAY)\n",
    "\n",
    "grad_x = cv2.Sobel(gray, cv2.CV_64F, 1, 0, ksize=21)\n",
    "grad_y = cv2.Sobel(gray, cv2.CV_64F, 0, 1, ksize=21)\n",
    "\n",
    "abs_grad_x = cv2.convertScaleAbs(grad_x)\n",
    "abs_grad_y = cv2.convertScaleAbs(grad_y)\n",
    "\n",
    "grad = np.sqrt(grad_x**2 + grad_y**2)\n",
    "grad_norm = (grad * 255 / grad.max()).astype(np.uint8)\n",
    "grad_zero = grad_norm.copy()\n",
    "grad_zero[np.abs(grad_zero) < 64] = 0\n",
    "grad_cnn = ndimage.convolve(grad_zero, scharr, mode='constant', cval=0.0)\n",
    "\n",
    "\n",
    "kernel = cv2.getStructuringElement(cv2.MORPH_RECT, (7, 7))\n",
    "closed = cv2.morphologyEx(grad_norm, cv2.MORPH_CLOSE, kernel)\n",
    "\n",
    "(cnts, _) = cv2.findContours(closed.copy(), cv2.RETR_EXTERNAL, cv2.CHAIN_APPROX_SIMPLE)\n",
    "\n",
    "for c in cnts:\n",
    "    peri = cv2.arcLength(c, True)\n",
    "    approx = cv2.approxPolyDP(c, 0.02 * peri, True)\n",
    "    cv2.drawContours(image, [approx], -1, (0, 255, 0), 2)\n",
    "\n",
    "#grad = cv2.addWeighted(abs_grad_x, 0.5, abs_grad_y, 0.5, 0)\n",
    "\n",
    "#PIL.Image.fromarray(grad_x  ).show()\n",
    "#PIL.Image.fromarray(grad_y  ).show()\n",
    "#PIL.Image.fromarray(grad_norm  ).show()\n",
    "#PIL.Image.fromarray(closed  ).show()\n",
    "#PIL.Image.fromarray(image  ).show()\n",
    "#PIL.Image.fromarray(grad_zero  ).show()\n",
    "PIL.Image.fromarray(np.absolute(grad_cnn)  ).show()\n",
    "#cv2.imshow('grad X',grad_x)\n",
    "#cv2.imshow('grad Y',grad_y)\n",
    "#cv2.imshow('Sobel Image',grad)\n",
    "#cv2.waitKey(0)\n",
    "#cv2.destroyAllWindows()"
   ],
   "metadata": {
    "collapsed": false,
    "pycharm": {
     "name": "#%%\n"
    }
   }
  }
 ],
 "metadata": {
  "kernelspec": {
   "display_name": "Python 3 (ipykernel)",
   "language": "python",
   "name": "python3"
  },
  "language_info": {
   "codemirror_mode": {
    "name": "ipython",
    "version": 3
   },
   "file_extension": ".py",
   "mimetype": "text/x-python",
   "name": "python",
   "nbconvert_exporter": "python",
   "pygments_lexer": "ipython3",
   "version": "3.10.1"
  }
 },
 "nbformat": 4,
 "nbformat_minor": 5
}