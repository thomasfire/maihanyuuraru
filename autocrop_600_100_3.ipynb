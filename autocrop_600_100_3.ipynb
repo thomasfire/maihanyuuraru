{
 "cells": [
  {
   "cell_type": "markdown",
   "id": "3a89b1ca",
   "metadata": {
    "pycharm": {
     "name": "#%% md\n"
    }
   },
   "source": [
    "# Detecting the rectangle of the rice leaf\n",
    "## This pybook is first of the development process"
   ]
  },
  {
   "cell_type": "code",
   "execution_count": 2,
   "id": "e5ac6c51",
   "metadata": {
    "pycharm": {
     "name": "#%%\n"
    }
   },
   "outputs": [],
   "source": [
    "import tensorflow as tf\n",
    "import numpy as np\n"
   ]
  },
  {
   "cell_type": "code",
   "execution_count": 3,
   "id": "d7ce58f9",
   "metadata": {
    "pycharm": {
     "name": "#%%\n"
    }
   },
   "outputs": [],
   "source": [
    "STD_SIZE: int = 1600\n",
    "\n",
    "\n",
    "def load_image(filepath: str):\n",
    "    file_content = tf.io.read_file(filepath)\n",
    "    image = tf.io.decode_jpeg(file_content, channels=3)  # load in RGB\n",
    "    return tf.image.resize(image, [STD_SIZE, STD_SIZE])  # don't forget to uniform our image"
   ]
  },
  {
   "cell_type": "code",
   "execution_count": 4,
   "id": "58606705",
   "metadata": {
    "pycharm": {
     "name": "#%%\n"
    }
   },
   "outputs": [
    {
     "name": "stderr",
     "output_type": "stream",
     "text": [
      "2022-01-16 20:44:45.393130: I tensorflow/core/platform/cpu_feature_guard.cc:151] This TensorFlow binary is optimized with oneAPI Deep Neural Network Library (oneDNN) to use the following CPU instructions in performance-critical operations:  SSE3 SSE4.1 SSE4.2 AVX AVX2 FMA\n",
      "To enable them in other operations, rebuild TensorFlow with the appropriate compiler flags.\n",
      "2022-01-16 20:44:45.394504: I tensorflow/core/common_runtime/process_util.cc:146] Creating new thread pool with default inter op setting: 2. Tune using inter_op_parallelism_threads for best performance.\n"
     ]
    }
   ],
   "source": [
    "import PIL\n",
    "\n",
    "image = load_image(\"RiceLeafs/train/Healthy/IMG_20190419_123623.jpg\")\n",
    "image = tf.cast(image, tf.float32)\n",
    "image = tf.expand_dims(image, 0)\n",
    "\n",
    "sobel = tf.image.sobel_edges(image)\n",
    "sobel_y = np.asarray(sobel[0, :, :, :, 0])  # sobel in y-direction\n",
    "sobel_x = np.asarray(sobel[0, :, :, :, 1])  # sobel in x-direction\n",
    "\n",
    "PIL.Image.fromarray(sobel_y[..., 0]).show()\n",
    "PIL.Image.fromarray(sobel_x[..., 0]).show()"
   ]
  },
  {
   "cell_type": "code",
   "execution_count": null,
   "id": "06a6483b",
   "metadata": {
    "pycharm": {
     "name": "#%%\n"
    }
   },
   "outputs": [],
   "source": [
    "import cv2\n",
    "\n",
    "#reading the image\n",
    "image = cv2.imread(\"RiceLeafs/train/Healthy/IMG_20190419_123623.jpg\")\n",
    "image = cv2.resize(image, (1600, 1600))\n",
    "edged = cv2.Canny(image, 10, 220)\n",
    "#cv2.imshow(\"Edges\", edged)\n",
    "#cv2.waitKey(0)\n",
    "\n",
    "#applying closing function\n",
    "kernel = cv2.getStructuringElement(cv2.MORPH_RECT, (7, 7))\n",
    "closed = cv2.morphologyEx(edged, cv2.MORPH_CLOSE, kernel)\n",
    "#cv2.imshow(\"Closed\", closed)\n",
    "#cv2.waitKey(0)\n",
    "\n",
    "#finding_contours\n",
    "(cnts, _) = cv2.findContours(closed.copy(), cv2.RETR_EXTERNAL, cv2.CHAIN_APPROX_SIMPLE)\n",
    "\n",
    "for c in cnts:\n",
    "    peri = cv2.arcLength(c, True)\n",
    "    approx = cv2.approxPolyDP(c, 0.02 * peri, True)\n",
    "    cv2.drawContours(image, [approx], -1, (0, 255, 0), 2)\n",
    "cv2.imshow(\"Output\", image)\n",
    "cv2.waitKey(0)\n",
    "cv2.destroyAllWindows()"
   ]
  },
  {
   "cell_type": "code",
   "execution_count": 13,
   "id": "148562cb",
   "metadata": {
    "pycharm": {
     "name": "#%%\n"
    }
   },
   "outputs": [],
   "source": [
    "def find_longest_dicks(contours) -> list:  # distance in contours klist\n",
    "    full_list = []\n",
    "    for c in contours:\n",
    "        peri = cv2.arcLength(c, True)\n",
    "        poly = cv2.approxPolyDP(c, 0.02 * peri, True)\n",
    "        for lin_i in range(len(poly))[:-1]:\n",
    "            full_list.append(((poly[lin_i][0][0], poly[lin_i][0][1]), (poly[lin_i + 1][0][0], poly[lin_i + 1][0][1])))\n",
    "    full_list = sorted(full_list, key=lambda x: -(x[0][0] - x[1][0]) ** 2 - (x[0][1] - x[1][1]) ** 2)\n",
    "    return full_list\n"
   ]
  },
  {
   "cell_type": "code",
   "execution_count": 31,
   "id": "aecdb839",
   "metadata": {
    "pycharm": {
     "name": "#%%\n"
    }
   },
   "outputs": [
    {
     "name": "stderr",
     "output_type": "stream",
     "text": [
      "/tmp/ipykernel_6171/2810790340.py:44: DeprecationWarning: `np.float` is a deprecated alias for the builtin `float`. To silence this warning, use `float` by itself. Doing this will not modify any behavior and is safe. If you specifically wanted the numpy scalar type, use `np.float64` here.\n",
      "Deprecated in NumPy 1.20; for more details and guidance: https://numpy.org/devdocs/release/1.20.0-notes.html#deprecations\n",
      "  grad_zero = grad_zero.astype(np.float)\n"
     ]
    },
    {
     "name": "stdout",
     "output_type": "stream",
     "text": [
      "0 255\n"
     ]
    }
   ],
   "source": [
    "import cv2\n",
    "from scipy import ndimage\n",
    "import numpy as np\n",
    "import PIL\n",
    "from matplotlib.pyplot import imshow\n",
    "% matplotlib inline\n",
    "\n",
    "scharr = np.array([[1, 1, 1, 1, 1, 1, 1],\n",
    "                   [1, 1, 1, 1, 1, 1, 1],\n",
    "                   [1, 1, 0, 0, 0, 1, 1],\n",
    "                   [1, 1, 0, 0, 0, 1, 1],\n",
    "                   [1, 1, 0, 0, 0, 1, 1],\n",
    "                   [1, 1, 1, 1, 1, 1, 1],\n",
    "                   [1, 1, 1, 1, 1, 1, 1]])\n",
    "\n",
    "sharpen = np.array([[0, 0, 0, -1, 0, 0, 0],\n",
    "                    [0, 0, -1, -1, -1, 0, 0],\n",
    "                    [0, -1, -1, -1, -1, -1, 0],\n",
    "                    [-1, -1, -1, 24, -1, -1, -1],\n",
    "                    [0, -1, -1, -1, -1, -1, 0],\n",
    "                    [0, 0, -1, -1, -1, 0, 0],\n",
    "                    [0, 0, 0, -1, 0, 0, 0]])\n",
    "\n",
    "new_conv = np.array([[0, -1, 0],\n",
    "                     [-1, 5, -1],\n",
    "                     [0, -1, 0]])\n",
    "\n",
    "image = cv2.imread(\"RiceLeafs/train/Healthy/IMG_20190419_123646.jpg\")\n",
    "image = cv2.resize(image, (1600, 1600))\n",
    "no_green_image = image.copy()\n",
    "no_green_image[:, :, 1] = 0\n",
    "gray = cv2.cvtColor(image, cv2.COLOR_BGR2GRAY)\n",
    "\n",
    "grad_x = cv2.Sobel(gray, cv2.CV_64F, 1, 0, ksize=21)\n",
    "grad_y = cv2.Sobel(gray, cv2.CV_64F, 0, 1, ksize=21)\n",
    "\n",
    "abs_grad_x = cv2.convertScaleAbs(grad_x)\n",
    "abs_grad_y = cv2.convertScaleAbs(grad_y)\n",
    "\n",
    "grad = np.sqrt(grad_x ** 2 + grad_y ** 2)\n",
    "grad_norm = (grad * 255 / grad.max()).astype(np.uint8)\n",
    "grad_zero = grad_norm.copy()\n",
    "grad_zero[np.abs(grad_zero) < 64] = 0\n",
    "grad_zero = grad_zero.astype(np.float)\n",
    "grad_cnn = ndimage.convolve(grad_zero, sharpen, mode='constant', cval=0.0)\n",
    "grad_cnn[grad_cnn > 255] = 255\n",
    "grad_cnn[grad_cnn < 64] = 0\n",
    "grad_cnn = grad_cnn.astype(np.uint8)\n",
    "print(grad_cnn.min(), grad_cnn.max())\n",
    "\n",
    "kernel = cv2.getStructuringElement(cv2.MORPH_RECT, (7, 7))\n",
    "closed = cv2.morphologyEx(grad_cnn, cv2.MORPH_CLOSE, kernel)\n",
    "\n",
    "(cnts, _) = cv2.findContours(closed.copy(), cv2.RETR_EXTERNAL, cv2.CHAIN_APPROX_SIMPLE)\n",
    "\n",
    "for c in cnts:\n",
    "    peri = cv2.arcLength(c, True)\n",
    "    approx = cv2.approxPolyDP(c, 0.02 * peri, True)\n",
    "    #print(approx, len(approx))\n",
    "    cv2.drawContours(image, [approx], -1, (0, 255, 0), 2)\n",
    "\n",
    "longest = find_longest_dicks(cnts)\n",
    "for line in longest[:2]:\n",
    "    cv2.line(image, line[0], line[1], color=(255, 0, 0), thickness=2)\n",
    "\n",
    "#imshow(cv2.cvtColor(image, cv2.COLOR_RGB2BGR))\n",
    "#imshow(image)\n",
    "\n",
    "#grad = cv2.addWeighted(abs_grad_x, 0.5, abs_grad_y, 0.5, 0)\n",
    "\n",
    "#PIL.Image.fromarray(grad_x  ).show()\n",
    "#PIL.Image.fromarray(grad_y  ).show()\n",
    "#PIL.Image.fromarray(grad_norm  ).show()\n",
    "#PIL.Image.fromarray(closed  ).show()\n",
    "PIL.Image.fromarray(image).show()\n",
    "#PIL.Image.fromarray(grad_zero  ).show()\n",
    "#PIL.Image.fromarray(np.absolute(grad_cnn)  ).show()\n",
    "#cv2.imshow('grad X',grad_x)\n",
    "#cv2.imshow('grad Y',grad_y)\n",
    "#cv2.imshow('Sobel Image',grad)\n",
    "#cv2.waitKey(0)\n",
    "#cv2.destroyAllWindows()"
   ]
  },
  {
   "cell_type": "code",
   "execution_count": 1,
   "id": "9c3bc5b2",
   "metadata": {
    "pycharm": {
     "name": "#%%\n"
    }
   },
   "outputs": [
    {
     "ename": "TypeError",
     "evalue": "'type' object is not subscriptable",
     "output_type": "error",
     "traceback": [
      "\u001B[1;31m---------------------------------------------------------------------------\u001B[0m",
      "\u001B[1;31mTypeError\u001B[0m                                 Traceback (most recent call last)",
      "\u001B[1;32mC:\\Temp/ipykernel_10408/2077058294.py\u001B[0m in \u001B[0;36m<module>\u001B[1;34m\u001B[0m\n\u001B[0;32m     22\u001B[0m \u001B[1;31m# b = y2 - k*x2\u001B[0m\u001B[1;33m\u001B[0m\u001B[1;33m\u001B[0m\u001B[1;33m\u001B[0m\u001B[0m\n\u001B[0;32m     23\u001B[0m \u001B[1;33m\u001B[0m\u001B[0m\n\u001B[1;32m---> 24\u001B[1;33m \u001B[1;32mdef\u001B[0m \u001B[0mline_koeff\u001B[0m\u001B[1;33m(\u001B[0m\u001B[0mline\u001B[0m\u001B[1;33m:\u001B[0m \u001B[0mtuple\u001B[0m\u001B[1;33m[\u001B[0m\u001B[0mtuple\u001B[0m\u001B[1;33m[\u001B[0m\u001B[0mint\u001B[0m\u001B[1;33m,\u001B[0m \u001B[0mint\u001B[0m\u001B[1;33m]\u001B[0m\u001B[1;33m,\u001B[0m \u001B[0mtuple\u001B[0m\u001B[1;33m[\u001B[0m\u001B[0mint\u001B[0m\u001B[1;33m,\u001B[0m \u001B[0mint\u001B[0m\u001B[1;33m]\u001B[0m\u001B[1;33m]\u001B[0m\u001B[1;33m)\u001B[0m \u001B[1;33m->\u001B[0m \u001B[0mtuple\u001B[0m\u001B[1;33m[\u001B[0m\u001B[0mfloat\u001B[0m\u001B[1;33m,\u001B[0m \u001B[0mfloat\u001B[0m\u001B[1;33m]\u001B[0m\u001B[1;33m:\u001B[0m\u001B[1;33m\u001B[0m\u001B[1;33m\u001B[0m\u001B[0m\n\u001B[0m\u001B[0;32m     25\u001B[0m     \u001B[0mk\u001B[0m \u001B[1;33m=\u001B[0m \u001B[1;33m(\u001B[0m\u001B[0mline\u001B[0m\u001B[1;33m[\u001B[0m\u001B[1;36m0\u001B[0m\u001B[1;33m]\u001B[0m\u001B[1;33m[\u001B[0m\u001B[1;36m1\u001B[0m\u001B[1;33m]\u001B[0m \u001B[1;33m-\u001B[0m \u001B[0mline\u001B[0m\u001B[1;33m[\u001B[0m\u001B[1;36m1\u001B[0m\u001B[1;33m]\u001B[0m\u001B[1;33m[\u001B[0m\u001B[1;36m1\u001B[0m\u001B[1;33m]\u001B[0m\u001B[1;33m)\u001B[0m \u001B[1;33m/\u001B[0m \u001B[1;33m(\u001B[0m\u001B[0mline\u001B[0m\u001B[1;33m[\u001B[0m\u001B[1;36m0\u001B[0m\u001B[1;33m]\u001B[0m\u001B[1;33m[\u001B[0m\u001B[1;36m0\u001B[0m\u001B[1;33m]\u001B[0m \u001B[1;33m-\u001B[0m \u001B[0mline\u001B[0m\u001B[1;33m[\u001B[0m\u001B[1;36m1\u001B[0m\u001B[1;33m]\u001B[0m\u001B[1;33m[\u001B[0m\u001B[1;36m0\u001B[0m\u001B[1;33m]\u001B[0m\u001B[1;33m)\u001B[0m\u001B[1;33m\u001B[0m\u001B[1;33m\u001B[0m\u001B[0m\n\u001B[0;32m     26\u001B[0m     \u001B[0mb\u001B[0m \u001B[1;33m=\u001B[0m \u001B[0mline\u001B[0m\u001B[1;33m[\u001B[0m\u001B[1;36m1\u001B[0m\u001B[1;33m]\u001B[0m\u001B[1;33m[\u001B[0m\u001B[1;36m1\u001B[0m\u001B[1;33m]\u001B[0m \u001B[1;33m-\u001B[0m \u001B[0mk\u001B[0m \u001B[1;33m*\u001B[0m \u001B[0mline\u001B[0m\u001B[1;33m[\u001B[0m\u001B[1;36m1\u001B[0m\u001B[1;33m]\u001B[0m\u001B[1;33m[\u001B[0m\u001B[1;36m0\u001B[0m\u001B[1;33m]\u001B[0m\u001B[1;33m\u001B[0m\u001B[1;33m\u001B[0m\u001B[0m\n",
      "\u001B[1;31mTypeError\u001B[0m: 'type' object is not subscriptable"
     ]
    }
   ],
   "source": [
    "import cv2\n",
    "import PIL\n",
    "from scipy import ndimage\n",
    "import numpy as np\n",
    "import os\n",
    "from math import sqrt, atan, pi, atan2\n",
    "from sys import stderr\n",
    "\n",
    "\n",
    "def find_longest_dicks(contours) -> list:  # distance in contours klist\n",
    "    full_list = []\n",
    "    for c in contours:\n",
    "        peri = cv2.arcLength(c, True)\n",
    "        poly = cv2.approxPolyDP(c, 0.02 * peri, True)\n",
    "        for lin_i in range(len(poly))[:-1]:\n",
    "            full_list.append(((poly[lin_i][0][0], poly[lin_i][0][1]), (poly[lin_i + 1][0][0], poly[lin_i + 1][0][1])))\n",
    "    full_list = sorted(full_list, key=lambda x: -(x[0][0] - x[1][0]) ** 2 - (x[0][1] - x[1][1]) ** 2)\n",
    "    return full_list\n",
    "\n",
    "\n",
    "# k = (y1 - y2) / (x1 - x2)\n",
    "# b = y2 - k*x2\n",
    "\n",
    "def line_koeff(line: tuple[tuple[int, int], tuple[int, int]]) -> tuple[float, float]:\n",
    "    k = (line[0][1] - line[1][1]) / (line[0][0] - line[1][0])\n",
    "    b = line[1][1] - k * line[1][0]\n",
    "    return k, b\n",
    "\n",
    "\n",
    "def angle_diff(lhs, rhs) -> float:\n",
    "    k_l, _ = line_koeff(lhs)\n",
    "    k_r, _ = line_koeff(rhs)\n",
    "    return abs(atan(k_l) - atan(k_r))\n",
    "\n",
    "def line_len_f(x):\n",
    "    return sqrt((x[0][0] - x[1][0]) ** 2 + (x[0][1] - x[1][1]) ** 2)\n",
    "\n",
    "\n",
    "sharpen_cnn = np.array([[0, 0, 0, -1, 0, 0, 0],\n",
    "                        [0, 0, -1, -1, -1, 0, 0],\n",
    "                        [0, -1, -1, -1, -1, -1, 0],\n",
    "                        [-1, -1, -1, 24, -1, -1, -1],\n",
    "                        [0, -1, -1, -1, -1, -1, 0],\n",
    "                        [0, 0, -1, -1, -1, 0, 0],\n",
    "                        [0, 0, 0, -1, 0, 0, 0]])\n",
    "\n",
    "len_threshold_1 = 0.40\n",
    "len_threshold_other = 0.8\n",
    "angle_diff_threshold = 10 * (pi / 180)\n",
    "OUT_W, OUT_H = 600, 100\n",
    "\n",
    "# TODO compare results with and without shadow removal\n",
    "def shadow_remove(img):\n",
    "    rgb_planes = cv2.split(img)\n",
    "    result_norm_planes = []\n",
    "    for plane in rgb_planes:\n",
    "        dilated_img = cv2.dilate(plane, np.ones((7, 7), np.uint8))\n",
    "        bg_img = cv2.medianBlur(dilated_img, 21)\n",
    "        diff_img = 255 - cv2.absdiff(plane, bg_img)\n",
    "        norm_img = cv2.normalize(diff_img, None, alpha=0, beta=255, norm_type=cv2.NORM_MINMAX, dtype=cv2.CV_8UC1)\n",
    "        result_norm_planes.append(norm_img)\n",
    "    shadowremov = cv2.merge(result_norm_planes)\n",
    "    return shadowremov\n",
    "\n",
    "def find_candidate_lines(image_data) -> list:\n",
    "    #gray = cv2.cvtColor(shadow_remove(image_data), cv2.COLOR_BGR2GRAY)\n",
    "    gray = cv2.cvtColor(image_data, cv2.COLOR_BGR2GRAY) # TODO cmp\n",
    "\n",
    "    grad_x = cv2.Sobel(gray, cv2.CV_64F, 1, 0, ksize=21)\n",
    "    grad_y = cv2.Sobel(gray, cv2.CV_64F, 0, 1, ksize=21)\n",
    "\n",
    "    grad = np.sqrt(grad_x ** 2 + grad_y ** 2)\n",
    "    grad_norm = (grad * 255 / grad.max()).astype(np.uint8)\n",
    "    grad_zero = grad_norm.copy()\n",
    "    grad_zero[np.abs(grad_zero) < 64] = 0\n",
    "    grad_zero = grad_zero.astype(np.float)\n",
    "    grad_cnn = ndimage.convolve(grad_zero, sharpen_cnn, mode='constant', cval=0.0)\n",
    "    grad_cnn[grad_cnn > 255] = 255\n",
    "    grad_cnn[grad_cnn < 64] = 0\n",
    "    grad_cnn = grad_cnn.astype(np.uint8)\n",
    "\n",
    "    kernel = cv2.getStructuringElement(cv2.MORPH_RECT, (7, 7))\n",
    "    closed = cv2.morphologyEx(grad_cnn, cv2.MORPH_CLOSE, kernel)\n",
    "\n",
    "    (cnts, _) = cv2.findContours(closed.copy(), cv2.RETR_EXTERNAL, cv2.CHAIN_APPROX_SIMPLE)\n",
    "    all_dicks = find_longest_dicks(cnts)\n",
    "    longest = all_dicks[:min(10, len(all_dicks))]\n",
    "\n",
    "    # here we filter dicks that are not big enough\n",
    "    if len(longest) <= 2:\n",
    "        return longest\n",
    "    target = list()\n",
    "    target.append(longest[0])  # at least 1 should be here\n",
    "    current_thr = len_threshold_1\n",
    "    for line in longest[1:]:\n",
    "        prev_len = line_len_f(target[-1])\n",
    "        current_len = line_len_f(line)\n",
    "        if current_len < prev_len * current_thr:\n",
    "            break\n",
    "        if angle_diff(target[0], line) > angle_diff_threshold:\n",
    "            continue\n",
    "        target.append(line)\n",
    "        current_thr = len_threshold_other\n",
    "\n",
    "    return target\n",
    "\n",
    "def restrict(x, mn, mx):\n",
    "    return int(max(mn, min(mx, x)))\n",
    "\n",
    "def find_intersection(k1: float, b1: float, k2: float, b2: float, x1: float, size: int) -> tuple[float, float]:\n",
    "    y1 = k1 * x1 + b1\n",
    "    x_r = (y1 + x1 / k1 - b2) / (k2 + 1 / k1)\n",
    "    y_r = x_r * k2 + b2\n",
    "    print(k1, b1, k2, b2, x1, x_r, y_r)\n",
    "    if x_r < -1:\n",
    "        #return int(0), int(b2)\n",
    "        #return find_intersection(k1, b1, k2, b2, x1 - x_r, size)\n",
    "        res = find_intersection(k2, b2, k1, b1, 1, size)\n",
    "        return find_intersection(k1, b1, k2, b2, res[0], size)\n",
    "    elif y_r < -1:\n",
    "        #return int(-b2 / k2), int(0)\n",
    "        #return find_intersection(k1, b1, k2, b2, x1 - y_r / k1, size)\n",
    "        res = find_intersection(k2, b2, k1, b1, (-b2) / k2, size)\n",
    "        return find_intersection(k1, b1, k2, b2, res[0], size)\n",
    "    elif x_r > size:\n",
    "        #return int(size - 1), int((size - 1) * k2 + b2)\n",
    "        #return find_intersection(k1, b1, k2, b2, x1 + (size - x_r), size)\n",
    "        res = find_intersection(k2, b2, k1, b1, (size - 1), size)\n",
    "        return find_intersection(k1, b1, k2, b2, res[0], size)\n",
    "    elif y_r > size:\n",
    "        #return int((size - 1) - b2 / k2), int((size - 1))\n",
    "        #return find_intersection(k1, b1, k2, b2, x1 + (size - y_r) / k1, size)\n",
    "        res = find_intersection(k2, b2, k1, b1, (((size - 1) - b2) / k2), size)\n",
    "        return find_intersection(k1, b1, k2, b2, res[0], size)\n",
    "    return x_r, y_r\n",
    "\n",
    "def spec_atan2(y, x):\n",
    "    res = atan2(y, x)\n",
    "    print(res, y, x)\n",
    "    return res\n",
    "\n",
    "def sort_counterclock(pts: tuple[tuple[int, int], tuple[int, int], tuple[int, int], tuple[int, int]]) -> tuple[tuple[int, int], tuple[int, int], tuple[int, int], tuple[int, int]]:\n",
    "    avg_x, avg_y = (pts[0][0] + pts[1][0] + pts[2][0] + pts[3][0]) / 4, (pts[0][1] + pts[1][1] + pts[2][1] + pts[3][1]) / 4\n",
    "    result = list(pts)\n",
    "    print(\"Points: \", result)\n",
    "    result = sorted(result, key=lambda pt: atan2((pt[0] - avg_x), (pt[1] - avg_y)))\n",
    "    #result = sorted(result, key=lambda pt: spec_atan2((pt[1] - avg_y), (pt[0] - avg_x)))\n",
    "    for pt in result:\n",
    "        print(\"pt({}, {}) from avg({}, {}): atan2 = {}\".format(pt[0], pt[1], avg_x, avg_y, atan2((pt[0] - avg_x), (pt[1] - avg_y))))\n",
    "    if line_len_f((result[0], result[1])) > line_len_f((result[1], result[2])):\n",
    "        return result[1], result[2], result[3], result[0]\n",
    "    return result[0], result[1], result[2], result[3]\n",
    "\n",
    "def normalize_fit_tetragon(tetragon: tuple[tuple[int, int], tuple[int, int], tuple[int, int], tuple[int, int]], size: int) -> tuple[tuple[int, int], tuple[int, int], tuple[int, int], tuple[int, int]]:\n",
    "    result = list()\n",
    "    for x in tetragon:\n",
    "        result.append((min(size, max(0, x[0])), min(size, max(0, x[1]))))\n",
    "    return result[0], result[1], result[2], result[3]\n",
    "\n",
    "def extract_maiha(image: np.ndarray, tetragon: tuple[tuple[int, int], tuple[int, int], tuple[int, int], tuple[int, int]]) -> np.ndarray:\n",
    "    #inp_pts = np.array(tetragon, dtype=float)\n",
    "    # 0231\n",
    "    stetra = sort_counterclock(tetragon)\n",
    "    inp_pts = np.array(stetra, dtype=np.float32)\n",
    "    outp_pts = np.array([[0, 0], [0, OUT_H], [OUT_W, OUT_H], [OUT_W, 0]], dtype=np.float32)\n",
    "    print(inp_pts)\n",
    "    print(outp_pts)\n",
    "    transform_mat = cv2.getPerspectiveTransform(inp_pts, outp_pts)\n",
    "    return cv2.warpPerspective(image, transform_mat, (OUT_W, OUT_H), flags=cv2.INTER_LINEAR)\n",
    "\n",
    "def find_rect_by_two_lines(line_ichi: tuple[tuple[int, int], tuple[int, int]], k2: float, b2: float, size: int) -> tuple[tuple[int, int], tuple[int, int], tuple[int, int], tuple[int, int]]:\n",
    "    k1, b1 = line_koeff(line_ichi)\n",
    "    sanme_point = find_intersection(k1, b1, k2, b2, line_ichi[0][0], size)\n",
    "    yonme_point = find_intersection(k1, b1, k2, b2, line_ichi[1][0], size)\n",
    "    sanme_point = restrict(sanme_point[0], 0, size-1), restrict(sanme_point[1], 0, size-1)\n",
    "    yonme_point = restrict(yonme_point[0], 0, size-1), restrict(yonme_point[1], 0, size-1)\n",
    "    return normalize_fit_tetragon((line_ichi[0], line_ichi[1], sanme_point, yonme_point), size)\n",
    "\n",
    "# there we have two lines\n",
    "# with that information we can find intersections\n",
    "# size is the image limit\n",
    "def find_tetragon_hinted(line_ichi: tuple[tuple[int, int], tuple[int, int]], line_ni: tuple[tuple[int, int], tuple[int, int]], size: int) -> tuple[tuple[int, int], tuple[int, int], tuple[int, int], tuple[int, int]]:\n",
    "    k2, b2 = line_koeff(line_ni)\n",
    "    return find_rect_by_two_lines(line_ichi, k2, b2, size)\n",
    "\n",
    "def get_rect_hinted(image: np.ndarray, line_ichi: tuple[tuple[int, int], tuple[int, int]], line_ni: tuple[tuple[int, int], tuple[int, int]], size: int) -> np.ndarray:\n",
    "    return extract_maiha(image, find_tetragon_hinted(line_ichi, line_ni, size))\n",
    "\n",
    "def is_valid_rect(rect: tuple[tuple[int, int], tuple[int, int], tuple[int, int], tuple[int, int]], size: int) -> bool:\n",
    "    for x in rect:\n",
    "        if x[0] >= size or x[1] >= size or x[0] < 0 or x[1] < 0:\n",
    "            return False\n",
    "    return True\n",
    "\n",
    "def rm_background(image: np.ndarray) -> np.ndarray:\n",
    "    lower = np.array([128, 64, 128])\n",
    "    upper = np.array([255, 255, 255])\n",
    "    thresh = cv2.inRange(image, lower, upper)\n",
    "    kernel = cv2.getStructuringElement(cv2.MORPH_ELLIPSE, (10, 10))\n",
    "    morph = cv2.morphologyEx(thresh, cv2.MORPH_CLOSE, kernel)\n",
    "    mask = 255 - morph\n",
    "    result = cv2.bitwise_and(image, image, mask=mask)\n",
    "    return result\n",
    "\n",
    "def compute_image_score(image: np.ndarray, hght: float) -> float: # we should keep it as low as possible\n",
    "    #no_green_image: np.ndarray = image.copy()\n",
    "    #no_green_image[:, :, 1] = 0\n",
    "    #return float(np.sum(image, dtype=float) + 1) / (image.shape[0] * image.shape[1] * image.shape[2])\n",
    "\n",
    "    nonz = float(np.count_nonzero(image))\n",
    "    all_pix = image.shape[0] * image.shape[1] * image.shape[2]\n",
    "    score = ((hght) ** (1)) * ((all_pix - nonz + 1))\n",
    "\n",
    "    cv2.imshow('score {}, h:{}, nonz: {}, all: {}'.format(int(score), int(hght), int(nonz), int(all_pix)), image)\n",
    "    cv2.waitKey(0)\n",
    "    cv2.destroyAllWindows()\n",
    "\n",
    "    return score # return black only\n",
    "\n",
    "# just for testing purposes\n",
    "def find_rect_no_hint(image: np.ndarray, line: tuple[tuple[int, int], tuple[int, int]], size: int) -> tuple[tuple[int, int], tuple[int, int], tuple[int, int], tuple[int, int]]:\n",
    "    b_step = 2 ** 8\n",
    "    k1, b1 = line_koeff(line)\n",
    "    result: tuple[tuple[int, int], tuple[int, int], tuple[int, int], tuple[int, int]] = (0, 0), (0, 0), (0, 0), (0, 0)\n",
    "    k_c, b_c = k1, b1\n",
    "    scoring_image = rm_background(image)\n",
    "    while b_step >= 1:\n",
    "        kl, bl = k_c, b_c + b_step # low\n",
    "        kh, bh = k_c, b_c - b_step # high\n",
    "        rect_l, rect_h = find_rect_by_two_lines(line, kl, bl, size), find_rect_by_two_lines(line, kh, bh, size)\n",
    "        img_l = extract_maiha(scoring_image, rect_l)\n",
    "        img_h = extract_maiha(scoring_image, rect_h)\n",
    "        score_l = compute_image_score(img_l, abs(b1 - bl)) # TODO NEEDS HEAVY ADJUSTMENTS\n",
    "        score_h = compute_image_score(img_h, abs(b1 - bh)) # CURRENT BUG!!!!!!\n",
    "        if score_l < score_h:\n",
    "            k_c, b_c = kl, bl\n",
    "            result = rect_l\n",
    "        else:\n",
    "            k_c, b_c = kh, bh\n",
    "            result = rect_h\n",
    "        b_step = int(b_step / 2)\n",
    "    return result\n",
    "\n",
    "\n",
    "def get_rect_no_hint(image: np.ndarray, line: tuple[tuple[int, int], tuple[int, int]], size: int) -> np.ndarray:\n",
    "\n",
    "    return None\n",
    "\n",
    "def process_image(image: np.ndarray, size: int) -> np.ndarray:\n",
    "    lines = find_candidate_lines(image)\n",
    "    if 0 and len(lines) > 1:\n",
    "        return get_rect_hinted(image, lines[0], lines[1], size)\n",
    "    elif len(lines) >= 1:\n",
    "        return get_rect_no_hint(image, lines[0], size)\n",
    "    return cv2.resize(image, (OUT_W, OUT_H))\n",
    "\n",
    "def process_image_get_lines(image: np.ndarray, size: int) -> tuple[tuple[int, int], tuple[int, int], tuple[int, int], tuple[int, int]]:\n",
    "    lines = find_candidate_lines(image)\n",
    "    if 0 and len(lines) > 1:\n",
    "        res = find_tetragon_hinted(lines[0], lines[1], size)\n",
    "        for x in res:\n",
    "            if x[0] >= size or x[1] >= size or x[0] < 0 or x[1] < 0:\n",
    "                print(\"hinted failure\", x[0], x[1], file=stderr)\n",
    "        return res\n",
    "    elif len(lines) >= 1:\n",
    "        res = find_rect_no_hint(image, lines[0], size)\n",
    "        for x in res:\n",
    "            if x[0] >= size or x[1] >= size or x[0] < 0 or x[1] < 0:\n",
    "                print(\"no hint failure\", x[0], x[1], file=stderr)\n",
    "        return res\n",
    "    return (0, 0), (0, size), (size, size), (size, 0)\n",
    "\n",
    "def show_draw_lines(path: str):\n",
    "    image = cv2.imread(path)\n",
    "    image = cv2.resize(image, (1600, 1600))\n",
    "    lines = find_candidate_lines(image)\n",
    "    for line in lines:\n",
    "        cv2.line(image, line[0], line[1], color=(255, 0, 0), thickness=2)\n",
    "\n",
    "    PIL.Image.fromarray(image).show()\n",
    "\n",
    "\n",
    "def process_folder_draw_lines(folder: str, target_folder: str):\n",
    "    files = os.listdir(folder)\n",
    "    for filename in files[:100]:\n",
    "        image = cv2.imread(os.path.join(folder, filename))\n",
    "        image = cv2.resize(image, (1024, 1024))\n",
    "        lines = find_candidate_lines(image)\n",
    "        for line in lines:\n",
    "            cv2.line(image, line[0], line[1], color=(0, 0, 255), thickness=2)\n",
    "        cv2.imwrite(os.path.join(target_folder, filename), image)\n",
    "\n",
    "def process_folder_draw_tetra(folder: str, target_folder: str):\n",
    "    files = os.listdir(folder)\n",
    "    for filename in files[:10]:\n",
    "        image = cv2.imread(os.path.join(folder, filename))\n",
    "        image = cv2.resize(image, (1024, 1024))\n",
    "        print(filename, file=stderr)\n",
    "        tetra = process_image_get_lines(image, 1024)\n",
    "        #cv2.drawContours(image, [approx], -1, (0, 255, 0), 2)\n",
    "        #print(np.array(tetra))\n",
    "        cv2.drawContours(image, [np.array(sort_counterclock(tetra), dtype=np.int)], -1, (0, 0, 255), 2)\n",
    "        cv2.imwrite(os.path.join(target_folder, filename), image)\n",
    "\n",
    "def process_folder_extract(folder: str, target_folder: str):\n",
    "    files = os.listdir(folder)\n",
    "    for filename in files[:10]:\n",
    "        image = cv2.imread(os.path.join(folder, filename))\n",
    "        image = cv2.resize(image, (1024, 1024))\n",
    "        print(filename, file=stderr)\n",
    "        extracted = process_image(image, 1024)\n",
    "        cv2.imwrite(os.path.join(target_folder, filename), extracted)\n",
    "\n",
    "\n",
    "#show_draw_lines(\"RiceLeafs/train/Healthy/IMG_20190419_123646.jpg\")\n",
    "#process_folder_draw_lines(\"RiceLeafs/train/Healthy\", \"test\")\n",
    "#process_folder_extract(\"RiceLeafs/train/Healthy\", \"test\")\n",
    "process_folder_draw_tetra(\"RiceLeafs/train/Healthy\", \"test_lines\")"
   ]
  },
  {
   "cell_type": "code",
   "execution_count": null,
   "id": "f7cc85df",
   "metadata": {
    "pycharm": {
     "name": "#%%\n"
    }
   },
   "outputs": [],
   "source": [
    "import cv2\n",
    "import numpy as np\n",
    "\n",
    "def warpImage(image, corners, target):\n",
    "    #mat = cv2.CreateMat(3, 3, cv2.CV_32F)\n",
    "    mat = np.zeros((3, 3), dtype=np.float64)\n",
    "    cv2.getPerspectiveTransform(corners, target, mat)\n",
    "    #out = cv2.CreateMat(height, width, cv2.CV_8UC3)\n",
    "    out = np.zeros((height, width, 3), dtype=np.uint8)\n",
    "    cv2.warpPerspective(image, out, mat, cv2.INTER_CUBIC)\n",
    "    return out\n",
    "\n",
    "if __name__ == '__main__':\n",
    "    width, height = 400, 250\n",
    "    corners = [(171,72),(331,93),(333,188),(177,210)]\n",
    "    target = [(0,0),(width,0),(width,height),(0,height)]\n",
    "    image = cv2.LoadImageM('fries.jpg')\n",
    "    out = warpImage(image, corners, target)\n",
    "    cv2.SaveImage('fries_warped.jpg', out)"
   ]
  },
  {
   "cell_type": "code",
   "execution_count": 6,
   "id": "26cd48c7",
   "metadata": {
    "pycharm": {
     "name": "#%%\n"
    }
   },
   "outputs": [],
   "source": [
    "import tensorflow as tf\n",
    "from keras.layers import Input, Lambda, Dense, Flatten,GlobalAveragePooling2D,BatchNormalization,Dropout,Activation\n",
    "from keras.models import Model\n",
    "from keras.preprocessing import image\n",
    "from keras.preprocessing.image import ImageDataGenerator\n",
    "from keras.models import Sequential\n",
    "import numpy as np\n",
    "from glob import glob\n",
    "import matplotlib.pyplot as plt\n",
    "import os\n",
    "import matplotlib.pyplot as plt\n",
    "import tensorflow as tf\n",
    "from tensorflow.keras.utils import to_categorical\n",
    "from tensorflow.keras.preprocessing.image import load_img, img_to_array\n",
    "from tensorflow.python.keras.preprocessing.image import ImageDataGenerator\n",
    "from sklearn.metrics import classification_report, log_loss, accuracy_score\n",
    "from sklearn.model_selection import train_test_split"
   ]
  },
  {
   "cell_type": "code",
   "execution_count": 7,
   "id": "39e52a2b",
   "metadata": {
    "pycharm": {
     "name": "#%%\n"
    }
   },
   "outputs": [
    {
     "name": "stdout",
     "output_type": "stream",
     "text": [
      "['BrownSpot', 'Healthy', 'Hispa', 'LeafBlast']\n",
      "4\n"
     ]
    }
   ],
   "source": [
    "train_dir = 'RiceLeafs/train'\n",
    "test_dir = 'RiceLeafs/validation'\n",
    "classes=[]\n",
    "for file in os.listdir(train_dir):\n",
    "    classes+=[file]\n",
    "print(classes)\n",
    "print(len(classes))"
   ]
  },
  {
   "cell_type": "code",
   "execution_count": 8,
   "id": "82b9dc52",
   "metadata": {
    "pycharm": {
     "name": "#%%\n"
    }
   },
   "outputs": [],
   "source": [
    "brownSpot = [train_dir + '/BrownSpot/' + img for img in os.listdir(train_dir + '/BrownSpot')[:9]]\n",
    "healthy = [train_dir  + '/Healthy/' + img for img in os.listdir(train_dir + '/Healthy')[:9]]\n",
    "hispa = [train_dir  + '/Hispa/' + img for img in os.listdir(train_dir + '/Hispa')[:9]]\n",
    "leafBlast = [train_dir  + '/LeafBlast/' + img for img in os.listdir(train_dir + '/LeafBlast')[:9]]"
   ]
  },
  {
   "cell_type": "code",
   "execution_count": 9,
   "id": "c805c31f",
   "metadata": {
    "pycharm": {
     "name": "#%%\n"
    }
   },
   "outputs": [],
   "source": [
    "dataset=[]\n",
    "shape=(600,100)\n",
    "count=0\n",
    "for file in os.listdir(train_dir):\n",
    "    path=os.path.join(train_dir,file)\n",
    "    t=0\n",
    "    for im in os.listdir(path):\n",
    "        image=load_img(os.path.join(path,im), grayscale=False, color_mode='rgb', target_size=shape)\n",
    "        image=img_to_array(image)\n",
    "        image=image/255.0\n",
    "        dataset+=[[image,count]]\n",
    "        t+=1\n",
    "    count=count+1"
   ]
  },
  {
   "cell_type": "code",
   "execution_count": 10,
   "id": "b4fe3c6d",
   "metadata": {
    "pycharm": {
     "name": "#%%\n"
    }
   },
   "outputs": [],
   "source": [
    "testset=[]\n",
    "count=0\n",
    "for file in os.listdir(test_dir):\n",
    "    path=os.path.join(test_dir,file)\n",
    "    t=0\n",
    "    for im in os.listdir(path):\n",
    "        image=load_img(os.path.join(path,im), grayscale=False, color_mode='rgb', target_size=shape)\n",
    "        image=img_to_array(image)\n",
    "        image=image/255.0\n",
    "        testset+=[[image,count]]\n",
    "        t+=1\n",
    "    count=count+1"
   ]
  },
  {
   "cell_type": "code",
   "execution_count": 11,
   "id": "5af4aa16",
   "metadata": {
    "pycharm": {
     "name": "#%%\n"
    }
   },
   "outputs": [
    {
     "name": "stdout",
     "output_type": "stream",
     "text": [
      "(2147, 600, 100, 3)\n",
      "(537, 600, 100, 3)\n",
      "(2147, 4)\n",
      "(537, 4)\n"
     ]
    }
   ],
   "source": [
    "data,trainlabels = zip(*dataset)\n",
    "test,testlabels = zip(*testset)\n",
    "labels1=to_categorical(trainlabels)\n",
    "labels=np.array(labels1)\n",
    "data=np.array(data)\n",
    "test=np.array(test)\n",
    "trainx,testx,trainy,testy=train_test_split(data,labels,test_size=0.2,random_state=42)\n",
    "print(trainx.shape)\n",
    "print(testx.shape)\n",
    "print(trainy.shape)\n",
    "print(testy.shape)"
   ]
  },
  {
   "cell_type": "code",
   "execution_count": 12,
   "id": "d74fee8c",
   "metadata": {
    "pycharm": {
     "name": "#%%\n"
    }
   },
   "outputs": [],
   "source": [
    "datagen = ImageDataGenerator(horizontal_flip=True,vertical_flip=True,rotation_range=30,zoom_range=0.2,\n",
    "                             width_shift_range=0.1,height_shift_range=0.2,shear_range=0.2)"
   ]
  },
  {
   "cell_type": "code",
   "execution_count": 16,
   "id": "992c7b1a",
   "metadata": {
    "pycharm": {
     "name": "#%%\n"
    }
   },
   "outputs": [
    {
     "name": "stdout",
     "output_type": "stream",
     "text": [
      "Model: \"Conv2D_Model\"\n",
      "_________________________________________________________________\n",
      " Layer (type)                Output Shape              Param #   \n",
      "=================================================================\n",
      " conv2d_3 (Conv2D)           (None, 598, 98, 16)       448       \n",
      "                                                                 \n",
      " max_pooling2d_3 (MaxPooling  (None, 299, 49, 16)      0         \n",
      " 2D)                                                             \n",
      "                                                                 \n",
      " conv2d_4 (Conv2D)           (None, 297, 47, 32)       4640      \n",
      "                                                                 \n",
      " max_pooling2d_4 (MaxPooling  (None, 148, 23, 32)      0         \n",
      " 2D)                                                             \n",
      "                                                                 \n",
      " conv2d_5 (Conv2D)           (None, 146, 21, 64)       18496     \n",
      "                                                                 \n",
      " max_pooling2d_5 (MaxPooling  (None, 73, 10, 64)       0         \n",
      " 2D)                                                             \n",
      "                                                                 \n",
      " flatten_1 (Flatten)         (None, 46720)             0         \n",
      "                                                                 \n",
      " dense_3 (Dense)             (None, 128)               5980288   \n",
      "                                                                 \n",
      " dropout_2 (Dropout)         (None, 128)               0         \n",
      "                                                                 \n",
      " dense_4 (Dense)             (None, 256)               33024     \n",
      "                                                                 \n",
      " dropout_3 (Dropout)         (None, 256)               0         \n",
      "                                                                 \n",
      " dense_5 (Dense)             (None, 4)                 1028      \n",
      "                                                                 \n",
      "=================================================================\n",
      "Total params: 6,037,924\n",
      "Trainable params: 6,037,924\n",
      "Non-trainable params: 0\n",
      "_________________________________________________________________\n"
     ]
    }
   ],
   "source": [
    "model = tf.keras.Sequential([\n",
    "    tf.keras.layers.Conv2D(16,(3,3),activation = 'relu',input_shape = (600,100,3)),\n",
    "    tf.keras.layers.MaxPooling2D(2,2),\n",
    "    tf.keras.layers.Conv2D(32,(3,3),activation = 'relu'),\n",
    "    tf.keras.layers.MaxPooling2D(2,2),\n",
    "    tf.keras.layers.Conv2D(64,(3,3),activation = 'relu'),\n",
    "    tf.keras.layers.MaxPooling2D(2,2),\n",
    "    tf.keras.layers.Flatten(),\n",
    "    tf.keras.layers.Dense(128,activation = 'relu'),\n",
    "    tf.keras.layers.Dropout(0.2),\n",
    "    tf.keras.layers.Dense(256,activation = 'relu'),\n",
    "    tf.keras.layers.Dropout(0.3),\n",
    "    tf.keras.layers.Dense(4,activation = 'softmax')\n",
    "\n",
    "],    name = 'Conv2D_Model')\n",
    "\n",
    "model.summary()"
   ]
  },
  {
   "cell_type": "code",
   "execution_count": 17,
   "id": "9f344380",
   "metadata": {
    "pycharm": {
     "name": "#%%\n"
    }
   },
   "outputs": [],
   "source": [
    "LEARNING_RATE = 0.001 #@param {type:\"number\"}\n",
    "\n",
    "model.compile(optimizer = tf.keras.optimizers.Adam(),\n",
    "              loss = 'categorical_crossentropy',\n",
    "              metrics = ['accuracy'])"
   ]
  },
  {
   "cell_type": "code",
   "execution_count": 18,
   "id": "297c3953",
   "metadata": {
    "pycharm": {
     "name": "#%%\n"
    }
   },
   "outputs": [
    {
     "name": "stdout",
     "output_type": "stream",
     "text": [
      "Epoch 1/10\n",
      "68/68 [==============================] - 67s 981ms/step - loss: 1.3248 - accuracy: 0.4276 - val_loss: 1.2438 - val_accuracy: 0.4618\n",
      "Epoch 2/10\n",
      "68/68 [==============================] - 62s 913ms/step - loss: 1.2812 - accuracy: 0.4453 - val_loss: 1.1357 - val_accuracy: 0.5363\n",
      "Epoch 3/10\n",
      "68/68 [==============================] - 62s 909ms/step - loss: 1.2813 - accuracy: 0.4364 - val_loss: 1.2170 - val_accuracy: 0.4618\n",
      "Epoch 4/10\n",
      "68/68 [==============================] - 63s 926ms/step - loss: 1.2582 - accuracy: 0.4341 - val_loss: 1.2704 - val_accuracy: 0.4618\n",
      "Epoch 5/10\n",
      "68/68 [==============================] - 61s 900ms/step - loss: 1.2061 - accuracy: 0.4667 - val_loss: 1.2558 - val_accuracy: 0.5214\n",
      "Epoch 6/10\n",
      "68/68 [==============================] - 61s 898ms/step - loss: 1.2059 - accuracy: 0.4793 - val_loss: 1.1701 - val_accuracy: 0.5307\n",
      "Epoch 7/10\n",
      "68/68 [==============================] - 62s 910ms/step - loss: 1.1821 - accuracy: 0.5049 - val_loss: 1.1710 - val_accuracy: 0.5307\n",
      "Epoch 8/10\n",
      "68/68 [==============================] - 62s 915ms/step - loss: 1.1505 - accuracy: 0.5095 - val_loss: 1.0227 - val_accuracy: 0.6201\n",
      "Epoch 9/10\n",
      "68/68 [==============================] - 63s 932ms/step - loss: 1.0940 - accuracy: 0.5482 - val_loss: 1.0018 - val_accuracy: 0.6052\n",
      "Epoch 10/10\n",
      "68/68 [==============================] - 63s 923ms/step - loss: 1.1273 - accuracy: 0.5203 - val_loss: 1.0803 - val_accuracy: 0.5587\n"
     ]
    }
   ],
   "source": [
    "his=model.fit(datagen.flow(trainx,trainy,batch_size=32),validation_data=(testx,testy),epochs=10)"
   ]
  },
  {
   "cell_type": "code",
   "execution_count": 19,
   "id": "d24a58b5",
   "metadata": {
    "pycharm": {
     "name": "#%%\n"
    }
   },
   "outputs": [
    {
     "data": {
      "image/png": "[encoded data removed]",
      "text/plain": [
       "<Figure size 432x288 with 1 Axes>"
      ]
     },
     "metadata": {
      "needs_background": "light"
     },
     "output_type": "display_data"
    },
    {
     "data": {
      "text/plain": [
       "<Figure size 432x288 with 0 Axes>"
      ]
     },
     "metadata": {},
     "output_type": "display_data"
    }
   ],
   "source": [
    "get_acc = his.history['accuracy']\n",
    "value_acc = his.history['val_accuracy']\n",
    "get_loss = his.history['loss']\n",
    "validation_loss = his.history['val_loss']\n",
    "\n",
    "epochs = range(len(get_acc))\n",
    "plt.plot(epochs, get_acc, 'r', label='Accuracy of Training data')\n",
    "plt.plot(epochs, value_acc, 'b', label='Accuracy of Validation data')\n",
    "plt.title('Training vs validation accuracy')\n",
    "plt.legend(loc=0)\n",
    "plt.figure()\n",
    "plt.show()"
   ]
  },
  {
   "cell_type": "code",
   "execution_count": null,
   "id": "f0f3e66c",
   "metadata": {
    "pycharm": {
     "name": "#%%\n"
    }
   },
   "outputs": [],
   "source": []
  }
 ],
 "metadata": {
  "kernelspec": {
   "display_name": "Python 3 (ipykernel)",
   "language": "python",
   "name": "python3"
  },
  "language_info": {
   "codemirror_mode": {
    "name": "ipython",
    "version": 3
   },
   "file_extension": ".py",
   "mimetype": "text/x-python",
   "name": "python",
   "nbconvert_exporter": "python",
   "pygments_lexer": "ipython3",
   "version": "3.8.5"
  }
 },
 "nbformat": 4,
 "nbformat_minor": 5
}