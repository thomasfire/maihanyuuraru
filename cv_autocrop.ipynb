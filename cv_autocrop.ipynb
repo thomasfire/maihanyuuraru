{
 "cells": [
  {
   "cell_type": "code",
   "execution_count": null,
   "metadata": {
    "collapsed": true,
    "pycharm": {
     "is_executing": true
    }
   },
   "outputs": [],
   "source": [
    "import cv2\n",
    "import numpy as np"
   ]
  },
  {
   "cell_type": "code",
   "execution_count": null,
   "outputs": [],
   "source": [
    "for i in range(1,100):\n",
    "    # Read image\n",
    "    img = cv2.imread('Leafs/leaf (' + str(i) + ').jpg')\n",
    "    hh, ww = img.shape[:2]\n",
    "\n",
    "    # threshold on white\n",
    "    # Define lower and uppper limits\n",
    "    lower = np.array([190, 190, 190])\n",
    "    upper = np.array([255, 255, 255])\n",
    "\n",
    "    # Create mask to only select black\n",
    "    thresh = cv2.inRange(img, lower, upper)\n",
    "\n",
    "    # apply morphology\n",
    "    kernel = cv2.getStructuringElement(cv2.MORPH_ELLIPSE, (20,20))\n",
    "    morph = cv2.morphologyEx(thresh, cv2.MORPH_CLOSE, kernel)\n",
    "\n",
    "    # invert morp image\n",
    "    mask = 255 - morph\n",
    "\n",
    "    # apply mask to image\n",
    "    result = cv2.bitwise_and(img, img, mask=mask)\n",
    "\n",
    "\n",
    "    # save results\n",
    "    cv2.imwrite('leaf_result(' + str(i) + '.jpg', result)\n",
    "    cv2.waitKey(0)\n",
    "    cv2.destroyAllWindows()"
   ],
   "metadata": {
    "collapsed": false,
    "pycharm": {
     "name": "#%%\n",
     "is_executing": true
    }
   }
  },
  {
   "cell_type": "code",
   "execution_count": null,
   "outputs": [],
   "source": [],
   "metadata": {
    "collapsed": false,
    "pycharm": {
     "name": "#%%\n"
    }
   }
  }
 ],
 "metadata": {
  "kernelspec": {
   "display_name": "Python 3",
   "language": "python",
   "name": "python3"
  },
  "language_info": {
   "codemirror_mode": {
    "name": "ipython",
    "version": 2
   },
   "file_extension": ".py",
   "mimetype": "text/x-python",
   "name": "python",
   "nbconvert_exporter": "python",
   "pygments_lexer": "ipython2",
   "version": "2.7.6"
  }
 },
 "nbformat": 4,
 "nbformat_minor": 0
}