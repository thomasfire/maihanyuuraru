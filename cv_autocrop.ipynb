{
 "cells": [
  {
   "cell_type": "code",
   "execution_count": null,
   "metadata": {
    "collapsed": true,
    "pycharm": {
     "is_executing": true
    }
   },
   "outputs": [],
   "source": [
    "import cv2\n",
    "import numpy as np"
   ]
  },
  {
   "cell_type": "code",
   "execution_count": null,
   "outputs": [],
   "source": [
    "for i in range(1,100):\n",
    "    # Read image\n",
    "    img = cv2.imread('Leafs/leaf (' + str(i) + ').jpg')\n",
    "    hh, ww = img.shape[:2]\n",
    "\n",
    "    # threshold on white\n",
    "    # Define lower and uppper limits\n",
    "    lower = np.array([190, 190, 190])\n",
    "    upper = np.array([255, 255, 255])\n",
    "\n",
    "    # Create mask to only select black\n",
    "    thresh = cv2.inRange(img, lower, upper)\n",
    "\n",
    "    # apply morphology\n",
    "    kernel = cv2.getStructuringElement(cv2.MORPH_ELLIPSE, (20,20))\n",
    "    morph = cv2.morphologyEx(thresh, cv2.MORPH_CLOSE, kernel)\n",
    "\n",
    "    # invert morp image\n",
    "    mask = 255 - morph\n",
    "\n",
    "    # apply mask to image\n",
    "    result = cv2.bitwise_and(img, img, mask=mask)\n",
    "\n",
    "\n",
    "    # save results\n",
    "    cv2.imwrite('leaf_result(' + str(i) + '.jpg', result)\n",
    "    cv2.waitKey(0)\n",
    "    cv2.destroyAllWindows()"
   ],
   "metadata": {
    "collapsed": false,
    "pycharm": {
     "name": "#%%\n",
     "is_executing": true
    }
   }
  },
  {
   "cell_type": "code",
   "execution_count": 14,
   "outputs": [
    {
     "name": "stdout",
     "output_type": "stream",
     "text": [
      "CPU times: user 9.34 s, sys: 370 ms, total: 9.71 s\n",
      "Wall time: 8.94 s\n"
     ]
    }
   ],
   "source": [
    "%%time\n",
    "import numpy as np\n",
    "import cv2\n",
    "import os\n",
    "\n",
    "def process_image(image: np.ndarray) -> np.ndarray:\n",
    "    lower = np.array([128, 64, 128])\n",
    "    upper = np.array([255, 255, 255])\n",
    "    thresh = cv2.inRange(image, lower, upper)\n",
    "    kernel = cv2.getStructuringElement(cv2.MORPH_ELLIPSE, (10, 10))\n",
    "    morph = cv2.morphologyEx(thresh, cv2.MORPH_CLOSE, kernel)\n",
    "    mask = 255 - morph\n",
    "    result = cv2.bitwise_and(image, image, mask=mask)\n",
    "    return result\n",
    "\n",
    "def process_folder(folder: str, target_folder: str):\n",
    "    files = os.listdir(folder)\n",
    "    for filename in files[:100]:\n",
    "        image = cv2.imread(os.path.join(folder, filename))\n",
    "        image = cv2.resize(image, (1024, 1024))\n",
    "        backed = process_image(image)\n",
    "        cv2.imwrite(os.path.join(target_folder, filename), backed)\n",
    "\n",
    "process_folder(\"RiceLeafs/train/Healthy\", \"test_back\")"
   ],
   "metadata": {
    "collapsed": false,
    "pycharm": {
     "name": "#%%\n"
    }
   }
  },
  {
   "cell_type": "code",
   "execution_count": 4,
   "outputs": [
    {
     "name": "stdout",
     "output_type": "stream",
     "text": [
      "1 -1 1 -2 1 1.5 -0.5\n",
      "1 -2 1 -1 3 2.5 1.5\n",
      "1 -1 1 -2 2 2.5 0.5\n",
      "(2, 0)\n",
      "1 1 1 2 0 -0.5 1.5\n",
      "1 2 1 1 1 1.5 2.5\n",
      "(1, 2)\n",
      "1 1 1 -2 0 1.5 -0.5\n",
      "1 -2 1 1 3 1.5 2.5\n",
      "1 1 1 -2 1 2.5 0.5\n",
      "(2, 0)\n"
     ]
    }
   ],
   "source": [
    "def find_intersection(k1: float, b1: float, k2: float, b2: float, x1: int, size: int) -> tuple[int, int]:\n",
    "    y1 = k1 * x1 + b1\n",
    "    x_r = (y1 + x1 / k1 - b2) / (k2 + 1 / k1)\n",
    "    y_r = x_r * k2 + b2\n",
    "    print(k1, b1, k2, b2, x1, x_r, y_r)\n",
    "    if x_r < 0:\n",
    "        #return int(0), int(b2)\n",
    "        #return find_intersection(k1, b1, k2, b2, x1 - x_r, size)\n",
    "        return find_intersection(k2, b2, k1, b1, 1, size)\n",
    "    elif y_r < 0:\n",
    "        #return int(-b2 / k2), int(0)\n",
    "        #return find_intersection(k1, b1, k2, b2, x1 - y_r / k1, size)\n",
    "        res = find_intersection(k2, b2, k1, b1, int((1 - b2) / k2), size)\n",
    "        return find_intersection(k1, b1, k2, b2, res[0], size)\n",
    "    elif x_r >= size:\n",
    "        #return int(size - 1), int((size - 1) * k2 + b2)\n",
    "        #return find_intersection(k1, b1, k2, b2, x1 + (size - x_r), size)\n",
    "        return find_intersection(k2, b2, k1, b1, int(size - 1), size)\n",
    "    elif y_r >= size:\n",
    "        #return int((size - 1) - b2 / k2), int((size - 1))\n",
    "        #return find_intersection(k1, b1, k2, b2, x1 + (size - y_r) / k1, size)\n",
    "        return find_intersection(k2, b2, k1, b1, int(((size - 1) - b2) / k2), size)\n",
    "    return int(x_r), int(y_r)\n",
    "\n",
    "print(find_intersection(1, -1, 1, -2,  1, 10))\n",
    "print(find_intersection(1, 1, 1, 2,  0, 10))\n",
    "print(find_intersection(1, 1, 1, -2,  0, 10))"
   ],
   "metadata": {
    "collapsed": false,
    "pycharm": {
     "name": "#%%\n"
    }
   }
  }
 ],
 "metadata": {
  "kernelspec": {
   "display_name": "Python 3",
   "language": "python",
   "name": "python3"
  },
  "language_info": {
   "codemirror_mode": {
    "name": "ipython",
    "version": 2
   },
   "file_extension": ".py",
   "mimetype": "text/x-python",
   "name": "python",
   "nbconvert_exporter": "python",
   "pygments_lexer": "ipython2",
   "version": "2.7.6"
  }
 },
 "nbformat": 4,
 "nbformat_minor": 0
}