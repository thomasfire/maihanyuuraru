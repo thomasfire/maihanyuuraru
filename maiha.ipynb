{
 "cells": [
  {
   "cell_type": "markdown",
   "metadata": {
    "collapsed": true,
    "pycharm": {
     "name": "#%% md\n"
    }
   },
   "source": [
    "# Categorize rice leafs by their diseases\n",
    "This notebook consists of the leaf detection part, and the neural net part."
   ]
  },
  {
   "cell_type": "markdown",
   "metadata": {
    "pycharm": {
     "name": "#%% md\n"
    }
   },
   "source": [
    "## Detection functions\n",
    "Here we detect the borders of the leaf in the image."
   ]
  },
  {
   "cell_type": "code",
   "execution_count": 1,
   "metadata": {
    "pycharm": {
     "name": "#%%\n"
    }
   },
   "outputs": [],
   "source": [
    "import cv2\n",
    "from scipy import ndimage\n",
    "import numpy as np\n",
    "from math import sqrt, pi, atan2, atan\n",
    "\n",
    "sharpen_cnn = np.array([[0, 0, 0, -1, 0, 0, 0],\n",
    "                        [0, 0, -1, -1, -1, 0, 0],\n",
    "                        [0, -1, -1, -1, -1, -1, 0],\n",
    "                        [-1, -1, -1, 24, -1, -1, -1],\n",
    "                        [0, -1, -1, -1, -1, -1, 0],\n",
    "                        [0, 0, -1, -1, -1, 0, 0],\n",
    "                        [0, 0, 0, -1, 0, 0, 0]])\n",
    "\n",
    "len_threshold_1 = 0.40\n",
    "len_threshold_other = 0.8\n",
    "angle_diff_threshold = 10 * (pi / 180)\n",
    "OUT_W, OUT_H = 800, 100\n",
    "RECIZE_SZ = 1024\n",
    "\n",
    "def find_longest_lines_in_contour(contours) -> list:\n",
    "    full_list = []\n",
    "    for c in contours:\n",
    "        peri = cv2.arcLength(c, True)\n",
    "        poly = cv2.approxPolyDP(c, 0.02 * peri, True)\n",
    "        for lin_i in range(len(poly))[:-1]:\n",
    "            full_list.append(((poly[lin_i][0][0], poly[lin_i][0][1]), (poly[lin_i + 1][0][0], poly[lin_i + 1][0][1])))\n",
    "    full_list = sorted(full_list, key=lambda x: -(x[0][0] - x[1][0]) ** 2 - (x[0][1] - x[1][1]) ** 2)\n",
    "    return full_list\n",
    "\n",
    "# k = (y1 - y2) / (x1 - x2)\n",
    "# b = y2 - k*x2\n",
    "def line_koeff(line: tuple[tuple[int, int], tuple[int, int]]) -> tuple[float, float]:\n",
    "    k = (line[0][1] - line[1][1]) / (line[0][0] - line[1][0])\n",
    "    b = line[1][1] - k * line[1][0]\n",
    "    return k, b\n",
    "\n",
    "def angle_diff(lhs, rhs) -> float:\n",
    "    k_l, _ = line_koeff(lhs)\n",
    "    k_r, _ = line_koeff(rhs)\n",
    "    return abs(atan(k_l) - atan(k_r))\n",
    "\n",
    "def line_len_f(x):\n",
    "    return sqrt((x[0][0] - x[1][0]) ** 2 + (x[0][1] - x[1][1]) ** 2)\n",
    "\n",
    "def find_candidate_lines(image_data) -> list:\n",
    "    gray = cv2.cvtColor(image_data, cv2.COLOR_BGR2GRAY) # convert image into monochannel\n",
    "\n",
    "    grad_x = cv2.Sobel(gray, cv2.CV_64F, 1, 0, ksize=9) # former: 21\n",
    "    grad_y = cv2.Sobel(gray, cv2.CV_64F, 0, 1, ksize=9) # changed for the perfomance\n",
    "\n",
    "    grad = np.sqrt(grad_x ** 2 + grad_y ** 2) # unite horizontal and vertical Sobel filtered images into one\n",
    "    grad = (grad * 255 / grad.max()).astype(np.uint8) # make image be an 2D-array of numbers [0..255]\n",
    "    grad[np.abs(grad) < 64] = 0 # zero out noizes\n",
    "    grad = grad.astype(np.float) # here we have image, that consists only from edges\n",
    "    grad = ndimage.convolve(grad, sharpen_cnn, mode='constant', cval=0.0) # sharpen the edges, because there are a lot of images that are quite blured\n",
    "    grad[grad > 255] = 255 # just normalize, nothing interesting\n",
    "    grad[grad < 64] = 0\n",
    "    grad = grad.astype(np.uint8) # convert it back\n",
    "\n",
    "    kernel = cv2.getStructuringElement(cv2.MORPH_RECT, (7, 7)) # make dots more looking like a line\n",
    "    closed = cv2.morphologyEx(grad, cv2.MORPH_CLOSE, kernel)\n",
    "\n",
    "    (cnts, _) = cv2.findContours(closed.copy(), cv2.RETR_EXTERNAL, cv2.CHAIN_APPROX_SIMPLE) # finally find the contours\n",
    "    all_lines = find_longest_lines_in_contour(cnts) # here we use all contours just as a set of lines from point to point\n",
    "    longest = all_lines[:min(10, len(all_lines))] # longest 10 lines\n",
    "\n",
    "    # here we filter dicks that are not big enough\n",
    "    if len(longest) <= 2:\n",
    "        return longest\n",
    "    target = list()\n",
    "    target.append(longest[0])  # at least 1 should be here\n",
    "    current_thr = len_threshold_1\n",
    "    for line in longest[1:]:\n",
    "        prev_len = line_len_f(target[-1])\n",
    "        current_len = line_len_f(line)\n",
    "        if current_len < prev_len * current_thr: # filter lines by length\n",
    "            break\n",
    "        if angle_diff(target[0], line) > angle_diff_threshold: # line should not be an angle\n",
    "            continue\n",
    "        target.append(line)\n",
    "        current_thr = len_threshold_other\n",
    "\n",
    "    return target\n",
    "\n",
    "def restrict(x, mn, mx): # just a normalize function, nothing interesting\n",
    "    return int(max(mn, min(mx, x)))\n",
    "\n",
    "# given two lines formed by f(x)=k*x+b and point on the first line, find the intersection of the second line with the first line's perpendicular in that point\n",
    "def find_intersection(k1: float, b1: float, k2: float, b2: float, x1: float, size: int, recursive: bool = True) -> tuple[float, float]:\n",
    "    y1 = k1 * x1 + b1\n",
    "    x_r = (y1 + x1 / k1 - b2) / (k2 + 1 / k1)\n",
    "    y_r = x_r * k2 + b2\n",
    "    if x_r < -1:\n",
    "        if not recursive:\n",
    "            return int(0), int(b2)\n",
    "        res = find_intersection(k2, b2, k1, b1, 1, size, False)\n",
    "        return find_intersection(k1, b1, k2, b2, res[0], size, False)\n",
    "    elif y_r < -1:\n",
    "        if not recursive:\n",
    "            return int(-b2 / k2), int(0)\n",
    "        res = find_intersection(k2, b2, k1, b1, (-b2) / k2, size, False)\n",
    "        return find_intersection(k1, b1, k2, b2, res[0], size, False)\n",
    "    elif x_r > size:\n",
    "        if not recursive:\n",
    "            return int(size - 1), int((size - 1) * k2 + b2)\n",
    "        res = find_intersection(k2, b2, k1, b1, (size - 1), size, False)\n",
    "        return find_intersection(k1, b1, k2, b2, res[0], size, False)\n",
    "    elif y_r > size:\n",
    "        if not recursive:\n",
    "            return int((size - 1) - b2 / k2), int((size - 1))\n",
    "        res = find_intersection(k2, b2, k1, b1, (((size - 1) - b2) / k2), size, False)\n",
    "        return find_intersection(k1, b1, k2, b2, res[0], size, False)\n",
    "    return x_r, y_r\n",
    "\n",
    "# sort points counterclockwise\n",
    "def sort_counterclock(pts: tuple[tuple[int, int], tuple[int, int], tuple[int, int], tuple[int, int]]) -> tuple[\n",
    "    tuple[int, int], tuple[int, int], tuple[int, int], tuple[int, int]]:\n",
    "    avg_x, avg_y = (pts[0][0] + pts[1][0] + pts[2][0] + pts[3][0]) / 4, (\n",
    "            pts[0][1] + pts[1][1] + pts[2][1] + pts[3][1]) / 4\n",
    "    result = list(pts)\n",
    "    result = sorted(result, key=lambda pt: atan2((pt[0] - avg_x), (pt[1] - avg_y)))\n",
    "    if line_len_f((result[0], result[1])) > line_len_f((result[1], result[2])):\n",
    "        return result[1], result[2], result[3], result[0]\n",
    "    return result[0], result[1], result[2], result[3]\n",
    "\n",
    "def normalize_fit_tetragon(tetragon: tuple[tuple[int, int], tuple[int, int], tuple[int, int], tuple[int, int]],\n",
    "                           size: int) -> tuple[tuple[int, int], tuple[int, int], tuple[int, int], tuple[int, int]]:\n",
    "    result = list()\n",
    "    for x in tetragon:\n",
    "        result.append((restrict(x[0], 0, size), restrict(x[1], 0, size)))\n",
    "    return result[0], result[1], result[2], result[3]\n",
    "\n",
    "# take image and four points and extract image within this tetragon into OUT_WxOUT_H image\n",
    "def extract_maiha(image: np.ndarray, tetragon: tuple[tuple[int, int], tuple[int, int], tuple[int, int], tuple[int, int]]) -> np.ndarray:\n",
    "    stetra = sort_counterclock(tetragon)\n",
    "    inp_pts = np.array(stetra, dtype=np.float32)\n",
    "    outp_pts = np.array([[0, 0], [0, OUT_H], [OUT_W, OUT_H], [OUT_W, 0]], dtype=np.float32)\n",
    "    transform_mat = cv2.getPerspectiveTransform(inp_pts, outp_pts)\n",
    "    return cv2.warpPerspective(image, transform_mat, (OUT_W, OUT_H), flags=cv2.INTER_LINEAR)\n",
    "\n",
    "# take pointed line and functional line and return four points of tetragon, needed to extract image\n",
    "def find_rect_by_two_lines(line_ichi: tuple[tuple[int, int], tuple[int, int]], k2: float, b2: float, size: int) -> tuple[tuple[int, int], tuple[int, int], tuple[int, int], tuple[int, int]]:\n",
    "    k1, b1 = line_koeff(line_ichi)\n",
    "    sanme_point = find_intersection(k1, b1, k2, b2, line_ichi[0][0], size)\n",
    "    yonme_point = find_intersection(k1, b1, k2, b2, line_ichi[1][0], size)\n",
    "    sanme_point = restrict(sanme_point[0], 0, size - 1), restrict(sanme_point[1], 0, size - 1)\n",
    "    yonme_point = restrict(yonme_point[0], 0, size - 1), restrict(yonme_point[1], 0, size - 1)\n",
    "    return normalize_fit_tetragon((line_ichi[0], line_ichi[1], sanme_point, yonme_point), size)\n",
    "\n",
    "def is_valid_rect(rect: tuple[tuple[int, int], tuple[int, int], tuple[int, int], tuple[int, int]], size: int) -> bool:\n",
    "    for x in rect:\n",
    "        if x[0] >= size or x[1] >= size or x[0] < 0 or x[1] < 0:\n",
    "            return False\n",
    "    return True\n",
    "\n",
    "# remove background from image\n",
    "# as it does remove parts of the leafs too, it is used only in scoring the image\n",
    "def rm_background(image: np.ndarray) -> np.ndarray:\n",
    "    lower = np.array([128, 64, 128])\n",
    "    upper = np.array([255, 255, 255])\n",
    "    thresh = cv2.inRange(image, lower, upper)\n",
    "    kernel = cv2.getStructuringElement(cv2.MORPH_ELLIPSE, (10, 10))\n",
    "    morph = cv2.morphologyEx(thresh, cv2.MORPH_CLOSE, kernel)\n",
    "    mask = 255 - morph\n",
    "    result = cv2.bitwise_and(image, image, mask=mask)\n",
    "    return result\n",
    "\n",
    "def compute_image_score(image: np.ndarray, hght: float) -> float:  # we should keep it as low as possible\n",
    "    blured = cv2.blur(image, (9, 9)) # blur, because some parts of the leafs may be black, and worthen the score\n",
    "    nonz = float(np.count_nonzero(blured))\n",
    "    all_pix = blured.shape[0] * blured.shape[1] * blured.shape[2]\n",
    "    score = -((hght) ** (1)) + (((all_pix - nonz + 1) / all_pix * 256) ** 2) # less is better\n",
    "    return score\n",
    "\n",
    "# this algo is similar to binary search around the main line\n",
    "# we build lines +-step and look at the score\n",
    "# then choose the less one and divide step by 2\n",
    "def find_rect_no_hint(image: np.ndarray, line: tuple[tuple[int, int], tuple[int, int]], size: int) -> tuple[tuple[int, int], tuple[int, int], tuple[int, int], tuple[int, int]]:\n",
    "    b_step = 2 ** 8\n",
    "    k1, b1 = line_koeff(line)\n",
    "    result: tuple[tuple[int, int], tuple[int, int], tuple[int, int], tuple[int, int]] = (0, 0), (0, 0), (0, 0), (0, 0)\n",
    "    k_c, b_c = k1, b1\n",
    "    scoring_image = rm_background(image)\n",
    "    while b_step >= 1:\n",
    "        kl, bl = k_c, b_c + b_step  # low\n",
    "        kh, bh = k_c, b_c - b_step  # high\n",
    "        rect_l, rect_h = find_rect_by_two_lines(line, kl, bl, size), find_rect_by_two_lines(line, kh, bh, size)\n",
    "        img_l = extract_maiha(scoring_image, rect_l)\n",
    "        img_h = extract_maiha(scoring_image, rect_h)\n",
    "        score_l = compute_image_score(img_l, abs(b1 - bl))\n",
    "        score_h = compute_image_score(img_h, abs(b1 - bh))\n",
    "        if score_l < score_h:\n",
    "            k_c, b_c = kl, bl\n",
    "            result = rect_l\n",
    "        else:\n",
    "            k_c, b_c = kh, bh\n",
    "            result = rect_h\n",
    "        b_step = int(b_step / 2)\n",
    "    return result\n",
    "\n",
    "\n",
    "def get_rect_no_hint(image: np.ndarray, line: tuple[tuple[int, int], tuple[int, int]], size: int) -> np.ndarray:\n",
    "    tetragon = find_rect_no_hint(image, line, size)\n",
    "    return extract_maiha(image, tetragon)\n",
    "\n",
    "# in previous works there was usage of other lines too, but we decided to continue with\n",
    "# main line only, because it gives less distorted results\n",
    "def process_image(image: np.ndarray, size: int) -> np.ndarray:\n",
    "    lines = find_candidate_lines(image)\n",
    "    if len(lines) >= 1:\n",
    "        return get_rect_no_hint(image, lines[0], size)\n",
    "    return cv2.resize(image, (OUT_W, OUT_H))\n",
    "\n",
    "def process_image_from_file_to_file(path: str, store_path: str):\n",
    "    image = cv2.imread(path)\n",
    "    image = cv2.resize(image, (RECIZE_SZ, RECIZE_SZ))\n",
    "    image = process_image(image, RECIZE_SZ)\n",
    "    cv2.imwrite(store_path, image)\n",
    "\n",
    "def read_from_origin(path: str) -> np.ndarray:\n",
    "    image = cv2.imread(path)\n",
    "    image = cv2.resize(image, (RECIZE_SZ, RECIZE_SZ))\n",
    "    return process_image(image, RECIZE_SZ)"
   ]
  },
  {
   "cell_type": "code",
   "execution_count": 2,
   "metadata": {
    "pycharm": {
     "name": "#%%\n"
    }
   },
   "outputs": [
    {
     "name": "stdout",
     "output_type": "stream",
     "text": [
      "Total images cached:  0\n",
      "CPU times: user 373 µs, sys: 0 ns, total: 373 µs\n",
      "Wall time: 221 µs\n"
     ]
    }
   ],
   "source": [
    "%%time\n",
    "import os\n",
    "from os.path import join as pjoin, isfile\n",
    "\n",
    "CACHE_DIR = \"maihacache\"\n",
    "READ_DIR = \"RiceLeafs\"\n",
    "counter = 0\n",
    "\n",
    "def precache_leafs(path: str, store_path: str):\n",
    "    global counter\n",
    "    os.mkdir(store_path)\n",
    "    for entry in os.listdir(path):\n",
    "        fpath = pjoin(path, entry) # folded\n",
    "        ftarget = pjoin(store_path, entry)\n",
    "        if isfile(fpath):\n",
    "            process_image_from_file_to_file(fpath, ftarget)\n",
    "            counter += 1\n",
    "        else:\n",
    "            precache_leafs(fpath, ftarget)\n",
    "\n",
    "# precache_leafs(READ_DIR, CACHE_DIR)\n",
    "print(\"Total images cached: \", counter)\n",
    "counter = 0"
   ]
  },
  {
   "cell_type": "markdown",
   "metadata": {
    "pycharm": {
     "name": "#%% md\n"
    }
   },
   "source": []
  },
  {
   "cell_type": "code",
   "execution_count": 3,
   "metadata": {
    "pycharm": {
     "name": "#%%\n"
    }
   },
   "outputs": [
    {
     "name": "stderr",
     "output_type": "stream",
     "text": [
      "2022-01-26 03:08:42.058139: I tensorflow/stream_executor/cuda/cuda_gpu_executor.cc:939] successful NUMA node read from SysFS had negative value (-1), but there must be at least one NUMA node, so returning NUMA node zero\n"
     ]
    },
    {
     "name": "stdout",
     "output_type": "stream",
     "text": [
      "[PhysicalDevice(name='/physical_device:CPU:0', device_type='CPU'), PhysicalDevice(name='/physical_device:GPU:0', device_type='GPU')]\n",
      "[LogicalDevice(name='/device:GPU:0', device_type='GPU')]\n"
     ]
    },
    {
     "name": "stderr",
     "output_type": "stream",
     "text": [
      "2022-01-26 03:08:42.094139: I tensorflow/stream_executor/cuda/cuda_gpu_executor.cc:939] successful NUMA node read from SysFS had negative value (-1), but there must be at least one NUMA node, so returning NUMA node zero\n",
      "2022-01-26 03:08:42.094378: I tensorflow/stream_executor/cuda/cuda_gpu_executor.cc:939] successful NUMA node read from SysFS had negative value (-1), but there must be at least one NUMA node, so returning NUMA node zero\n",
      "2022-01-26 03:08:42.113895: I tensorflow/core/platform/cpu_feature_guard.cc:151] This TensorFlow binary is optimized with oneAPI Deep Neural Network Library (oneDNN) to use the following CPU instructions in performance-critical operations:  FMA\n",
      "To enable them in other operations, rebuild TensorFlow with the appropriate compiler flags.\n",
      "2022-01-26 03:08:42.115092: I tensorflow/stream_executor/cuda/cuda_gpu_executor.cc:939] successful NUMA node read from SysFS had negative value (-1), but there must be at least one NUMA node, so returning NUMA node zero\n",
      "2022-01-26 03:08:42.115334: I tensorflow/stream_executor/cuda/cuda_gpu_executor.cc:939] successful NUMA node read from SysFS had negative value (-1), but there must be at least one NUMA node, so returning NUMA node zero\n",
      "2022-01-26 03:08:42.115517: I tensorflow/stream_executor/cuda/cuda_gpu_executor.cc:939] successful NUMA node read from SysFS had negative value (-1), but there must be at least one NUMA node, so returning NUMA node zero\n",
      "2022-01-26 03:08:42.641414: I tensorflow/stream_executor/cuda/cuda_gpu_executor.cc:939] successful NUMA node read from SysFS had negative value (-1), but there must be at least one NUMA node, so returning NUMA node zero\n",
      "2022-01-26 03:08:42.641654: I tensorflow/stream_executor/cuda/cuda_gpu_executor.cc:939] successful NUMA node read from SysFS had negative value (-1), but there must be at least one NUMA node, so returning NUMA node zero\n",
      "2022-01-26 03:08:42.641838: I tensorflow/stream_executor/cuda/cuda_gpu_executor.cc:939] successful NUMA node read from SysFS had negative value (-1), but there must be at least one NUMA node, so returning NUMA node zero\n",
      "2022-01-26 03:08:42.641994: I tensorflow/core/common_runtime/gpu/gpu_device.cc:1525] Created device /job:localhost/replica:0/task:0/device:GPU:0 with 1627 MB memory:  -> device: 0, name: NVIDIA GeForce MX150, pci bus id: 0000:01:00.0, compute capability: 6.1\n",
      "2022-01-26 03:08:42.642254: I tensorflow/core/common_runtime/process_util.cc:146] Creating new thread pool with default inter op setting: 2. Tune using inter_op_parallelism_threads for best performance.\n"
     ]
    }
   ],
   "source": [
    "import tensorflow as tf\n",
    "from sklearn.model_selection import train_test_split\n",
    "\n",
    "physical_devices = tf.config.list_physical_devices('GPU')\n",
    "tf.config.experimental.set_memory_growth(physical_devices[0], True)\n",
    "\n",
    "# tf.debugging.set_log_device_placement(True)\n",
    "tf.config.set_soft_device_placement(True)\n",
    "\n",
    "print(tf.config.experimental.list_physical_devices())\n",
    "\n",
    "gpu = tf.config.list_logical_devices('GPU')\n",
    "#tf.config.experimental.set_memory_growth(gpu[0], True)\n",
    "\n",
    "print(gpu)"
   ]
  },
  {
   "cell_type": "code",
   "execution_count": 4,
   "metadata": {
    "pycharm": {
     "name": "#%%\n"
    }
   },
   "outputs": [
    {
     "name": "stdout",
     "output_type": "stream",
     "text": [
      "Model: \"Maiha\"\n",
      "_________________________________________________________________\n",
      " Layer (type)                Output Shape              Param #   \n",
      "=================================================================\n",
      " conv2d (Conv2D)             (None, 798, 98, 6)        168       \n",
      "                                                                 \n",
      " max_pooling2d (MaxPooling2D  (None, 399, 49, 6)       0         \n",
      " )                                                               \n",
      "                                                                 \n",
      " conv2d_1 (Conv2D)           (None, 397, 47, 8)        440       \n",
      "                                                                 \n",
      " max_pooling2d_1 (MaxPooling  (None, 198, 23, 8)       0         \n",
      " 2D)                                                             \n",
      "                                                                 \n",
      " conv2d_2 (Conv2D)           (None, 194, 19, 10)       2010      \n",
      "                                                                 \n",
      " max_pooling2d_2 (MaxPooling  (None, 48, 4, 10)        0         \n",
      " 2D)                                                             \n",
      "                                                                 \n",
      " flatten (Flatten)           (None, 1920)              0         \n",
      "                                                                 \n",
      " dense (Dense)               (None, 128)               245888    \n",
      "                                                                 \n",
      " dropout (Dropout)           (None, 128)               0         \n",
      "                                                                 \n",
      " dense_1 (Dense)             (None, 4)                 516       \n",
      "                                                                 \n",
      "=================================================================\n",
      "Total params: 249,022\n",
      "Trainable params: 249,022\n",
      "Non-trainable params: 0\n",
      "_________________________________________________________________\n"
     ]
    }
   ],
   "source": [
    "LEARNING_RATE = 0.001\n",
    "\n",
    "model = tf.keras.Sequential([\n",
    "    tf.keras.layers.Conv2D(6, (3, 3), activation = 'relu', input_shape = (OUT_W, OUT_H, 3)),\n",
    "    tf.keras.layers.MaxPooling2D(2, 2),\n",
    "    tf.keras.layers.Conv2D(8, (3, 3), activation = 'relu'),\n",
    "    tf.keras.layers.MaxPooling2D(2, 2),\n",
    "    tf.keras.layers.Conv2D(10, (5, 5), activation = 'relu'),\n",
    "    tf.keras.layers.MaxPooling2D(4, 4),\n",
    "    tf.keras.layers.Flatten(),\n",
    "    tf.keras.layers.Dense(128, activation = 'relu'),\n",
    "    tf.keras.layers.Dropout(0.2),\n",
    "    tf.keras.layers.Dense(4, activation = 'softmax')\n",
    "],    name = 'Maiha')\n",
    "\n",
    "model.summary()\n",
    "\n",
    "model.compile(optimizer = tf.keras.optimizers.Adam(),\n",
    "              loss = tf.keras.losses.CategoricalCrossentropy(),\n",
    "              metrics = ['accuracy'])"
   ]
  },
  {
   "cell_type": "code",
   "execution_count": 5,
   "metadata": {
    "pycharm": {
     "name": "#%%\n"
    }
   },
   "outputs": [
    {
     "name": "stdout",
     "output_type": "stream",
     "text": [
      "['BrownSpot', 'LeafBlast', 'Healthy', 'Hispa']\n",
      "4\n"
     ]
    }
   ],
   "source": [
    "train_dir = pjoin(CACHE_DIR, 'train')\n",
    "test_dir = pjoin(CACHE_DIR, 'validation')\n",
    "classes = []\n",
    "for file in os.listdir(train_dir):\n",
    "    classes += [file]\n",
    "print(classes)\n",
    "print(len(classes))"
   ]
  },
  {
   "cell_type": "code",
   "execution_count": 6,
   "metadata": {
    "pycharm": {
     "name": "#%%\n"
    }
   },
   "outputs": [],
   "source": [
    "brownSpot = [train_dir + '/BrownSpot/' + img for img in os.listdir(train_dir + '/BrownSpot')[:9]]\n",
    "healthy = [train_dir  + '/Healthy/' + img for img in os.listdir(train_dir + '/Healthy')[:9]]\n",
    "hispa = [train_dir  + '/Hispa/' + img for img in os.listdir(train_dir + '/Hispa')[:9]]\n",
    "leafBlast = [train_dir  + '/LeafBlast/' + img for img in os.listdir(train_dir + '/LeafBlast')[:9]]"
   ]
  },
  {
   "cell_type": "code",
   "execution_count": 7,
   "metadata": {
    "pycharm": {
     "name": "#%%\n"
    }
   },
   "outputs": [],
   "source": [
    "def load_dataset(datadir: str):\n",
    "    target_set = list()\n",
    "    shape=(OUT_W, OUT_H)\n",
    "    counter = 0\n",
    "    for file in os.listdir(datadir):\n",
    "        path=os.path.join(datadir, file)\n",
    "        for im in os.listdir(path):\n",
    "            image = tf.keras.preprocessing.image.load_img(os.path.join(path, im), grayscale=False, color_mode='rgb', target_size=shape)\n",
    "            image = tf.keras.preprocessing.image.img_to_array(image)\n",
    "            image = image / 255.0\n",
    "            target_set += [[image, counter]]\n",
    "        counter += 1\n",
    "    return target_set"
   ]
  },
  {
   "cell_type": "code",
   "execution_count": 8,
   "metadata": {
    "pycharm": {
     "name": "#%%\n"
    }
   },
   "outputs": [],
   "source": [
    "dataset = load_dataset(train_dir)\n",
    "testset = load_dataset(test_dir)"
   ]
  },
  {
   "cell_type": "code",
   "execution_count": 9,
   "metadata": {
    "pycharm": {
     "name": "#%%\n"
    }
   },
   "outputs": [
    {
     "name": "stdout",
     "output_type": "stream",
     "text": [
      "(2147, 800, 100, 3)\n",
      "(537, 800, 100, 3)\n",
      "(2147, 4)\n",
      "(537, 4)\n"
     ]
    }
   ],
   "source": [
    "data, trainlabels = zip(*dataset)\n",
    "test, testlabels = zip(*testset)\n",
    "labels = np.array(tf.keras.utils.to_categorical(trainlabels, num_classes=4))\n",
    "data = np.array(data)\n",
    "test = np.array(test)\n",
    "trainx, testx, trainy, testy = train_test_split(data, labels, test_size=0.2, random_state=42)\n",
    "print(trainx.shape)\n",
    "print(testx.shape)\n",
    "print(trainy.shape)\n",
    "print(testy.shape)"
   ]
  },
  {
   "cell_type": "code",
   "execution_count": 10,
   "metadata": {},
   "outputs": [],
   "source": [
    "del dataset[:]\n",
    "del dataset\n",
    "del testset[:]\n",
    "del testset\n",
    "dataset = None\n",
    "testset = None"
   ]
  },
  {
   "cell_type": "code",
   "execution_count": 11,
   "metadata": {
    "pycharm": {
     "name": "#%%\n"
    }
   },
   "outputs": [],
   "source": [
    "datagen = tf.keras.preprocessing.image.ImageDataGenerator(horizontal_flip=True, vertical_flip=True, rotation_range=5, zoom_range=0.2, width_shift_range=0.1,height_shift_range=0.1,shear_range=0.2)"
   ]
  },
  {
   "cell_type": "code",
   "execution_count": 12,
   "metadata": {
    "pycharm": {
     "name": "#%%\n"
    }
   },
   "outputs": [
    {
     "name": "stdout",
     "output_type": "stream",
     "text": [
      "Epoch 1/20\n"
     ]
    },
    {
     "name": "stderr",
     "output_type": "stream",
     "text": [
      "2022-01-26 03:08:50.796359: I tensorflow/stream_executor/cuda/cuda_dnn.cc:366] Loaded cuDNN version 8300\n"
     ]
    },
    {
     "name": "stdout",
     "output_type": "stream",
     "text": [
      "68/68 [==============================] - 37s 487ms/step - loss: 1.2925 - accuracy: 0.4425 - val_loss: 1.1709 - val_accuracy: 0.5382\n",
      "Epoch 2/20\n",
      "68/68 [==============================] - 32s 469ms/step - loss: 1.2072 - accuracy: 0.4946 - val_loss: 1.1308 - val_accuracy: 0.5419\n",
      "Epoch 3/20\n",
      "68/68 [==============================] - 33s 479ms/step - loss: 1.1857 - accuracy: 0.5105 - val_loss: 1.1107 - val_accuracy: 0.5419\n",
      "Epoch 4/20\n",
      "68/68 [==============================] - 33s 485ms/step - loss: 1.1571 - accuracy: 0.5128 - val_loss: 1.1102 - val_accuracy: 0.5345\n",
      "Epoch 5/20\n",
      "68/68 [==============================] - 32s 474ms/step - loss: 1.1509 - accuracy: 0.5128 - val_loss: 1.1260 - val_accuracy: 0.5251\n",
      "Epoch 6/20\n",
      "68/68 [==============================] - 33s 479ms/step - loss: 1.1378 - accuracy: 0.5170 - val_loss: 1.0709 - val_accuracy: 0.5773\n",
      "Epoch 7/20\n",
      "68/68 [==============================] - 33s 477ms/step - loss: 1.1181 - accuracy: 0.5282 - val_loss: 1.0445 - val_accuracy: 0.6089\n",
      "Epoch 8/20\n",
      "68/68 [==============================] - 34s 500ms/step - loss: 1.0895 - accuracy: 0.5356 - val_loss: 1.0052 - val_accuracy: 0.5885\n",
      "Epoch 9/20\n",
      "68/68 [==============================] - 34s 500ms/step - loss: 1.0394 - accuracy: 0.5692 - val_loss: 1.0972 - val_accuracy: 0.5866\n",
      "Epoch 10/20\n",
      "68/68 [==============================] - 33s 482ms/step - loss: 1.0460 - accuracy: 0.5794 - val_loss: 1.0232 - val_accuracy: 0.6108\n",
      "Epoch 11/20\n",
      "68/68 [==============================] - 32s 477ms/step - loss: 1.0143 - accuracy: 0.5785 - val_loss: 1.0436 - val_accuracy: 0.6089\n",
      "Epoch 12/20\n",
      "68/68 [==============================] - 33s 481ms/step - loss: 0.9893 - accuracy: 0.5962 - val_loss: 0.9322 - val_accuracy: 0.6555\n",
      "Epoch 13/20\n",
      "68/68 [==============================] - 33s 478ms/step - loss: 0.9890 - accuracy: 0.5892 - val_loss: 0.9367 - val_accuracy: 0.6443\n",
      "Epoch 14/20\n",
      "68/68 [==============================] - 32s 476ms/step - loss: 0.9768 - accuracy: 0.5934 - val_loss: 0.9599 - val_accuracy: 0.6592\n",
      "Epoch 15/20\n",
      "68/68 [==============================] - 33s 479ms/step - loss: 0.9656 - accuracy: 0.6018 - val_loss: 0.9800 - val_accuracy: 0.6387\n",
      "Epoch 16/20\n",
      "68/68 [==============================] - 33s 480ms/step - loss: 0.9388 - accuracy: 0.6190 - val_loss: 0.9184 - val_accuracy: 0.6499\n",
      "Epoch 17/20\n",
      "68/68 [==============================] - 33s 477ms/step - loss: 0.9749 - accuracy: 0.6088 - val_loss: 0.9579 - val_accuracy: 0.6443\n",
      "Epoch 18/20\n",
      "68/68 [==============================] - 32s 476ms/step - loss: 0.9388 - accuracy: 0.6293 - val_loss: 0.9025 - val_accuracy: 0.6778\n",
      "Epoch 19/20\n",
      "68/68 [==============================] - 32s 477ms/step - loss: 0.9288 - accuracy: 0.6306 - val_loss: 0.9140 - val_accuracy: 0.6704\n",
      "Epoch 20/20\n",
      "68/68 [==============================] - 32s 476ms/step - loss: 0.9377 - accuracy: 0.6157 - val_loss: 0.9549 - val_accuracy: 0.6667\n"
     ]
    }
   ],
   "source": [
    "his = model.fit(datagen.flow(trainx, trainy, batch_size=32), validation_data=(testx, testy), epochs=20)"
   ]
  },
  {
   "cell_type": "code",
   "execution_count": 13,
   "metadata": {
    "pycharm": {
     "name": "#%%\n"
    }
   },
   "outputs": [
    {
     "data": {
      "image/png": "[encoded data removed]",
      "text/plain": [
       "<Figure size 432x288 with 1 Axes>"
      ]
     },
     "metadata": {
      "needs_background": "light"
     },
     "output_type": "display_data"
    },
    {
     "data": {
      "text/plain": [
       "<Figure size 432x288 with 0 Axes>"
      ]
     },
     "metadata": {},
     "output_type": "display_data"
    },
    {
     "data": {
      "image/png": "[encoded data removed]",
      "text/plain": [
       "<Figure size 432x288 with 1 Axes>"
      ]
     },
     "metadata": {
      "needs_background": "light"
     },
     "output_type": "display_data"
    },
    {
     "data": {
      "text/plain": [
       "<Figure size 432x288 with 0 Axes>"
      ]
     },
     "metadata": {},
     "output_type": "display_data"
    }
   ],
   "source": [
    "import matplotlib.pyplot as plt\n",
    "%matplotlib inline\n",
    "get_acc = his.history['accuracy']\n",
    "value_acc = his.history['val_accuracy']\n",
    "get_loss = his.history['loss']\n",
    "validation_loss = his.history['val_loss']\n",
    "\n",
    "epochs = range(len(get_acc))\n",
    "plt.plot(epochs, get_acc, 'r', label='Accuracy of Training data')\n",
    "plt.plot(epochs, value_acc, 'b', label='Accuracy of Validation data')\n",
    "plt.title('Training vs validation accuracy')\n",
    "plt.legend(loc=0)\n",
    "plt.figure()\n",
    "plt.show()\n",
    "\n",
    "plt.plot(epochs, get_loss, 'orange', label='Loss of Training data')\n",
    "plt.plot(epochs, validation_loss, 'green', label='Loss of Validation data')\n",
    "plt.title('Training vs validation loss')\n",
    "plt.legend(loc=0)\n",
    "plt.figure()\n",
    "plt.show()"
   ]
  }
 ],
 "metadata": {
  "kernelspec": {
   "display_name": "Python 3 (ipykernel)",
   "language": "python",
   "name": "python3"
  },
  "language_info": {
   "codemirror_mode": {
    "name": "ipython",
    "version": 3
   },
   "file_extension": ".py",
   "mimetype": "text/x-python",
   "name": "python",
   "nbconvert_exporter": "python",
   "pygments_lexer": "ipython3",
   "version": "3.10.1"
  }
 },
 "nbformat": 4,
 "nbformat_minor": 1
}
